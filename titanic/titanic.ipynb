{
 "cells": [
  {
   "cell_type": "code",
   "execution_count": 1,
   "metadata": {},
   "outputs": [],
   "source": [
    "import tensorflow as tf\n",
    "import pandas as pd\n",
    "from sklearn.model_selection import train_test_split"
   ]
  },
  {
   "cell_type": "code",
   "execution_count": 2,
   "metadata": {},
   "outputs": [],
   "source": [
    "df = pd.read_csv('train.csv')"
   ]
  },
  {
   "cell_type": "code",
   "execution_count": 3,
   "metadata": {},
   "outputs": [],
   "source": [
    "feature_column_names = ['Pclass', 'Sex', 'Age', 'SibSp', 'Parch', 'Fare', 'Embarked']"
   ]
  },
  {
   "cell_type": "code",
   "execution_count": 4,
   "metadata": {},
   "outputs": [],
   "source": [
    "features = df[feature_column_names]"
   ]
  },
  {
   "cell_type": "code",
   "execution_count": 5,
   "metadata": {},
   "outputs": [
    {
     "name": "stderr",
     "output_type": "stream",
     "text": [
      "/home/adam/miniconda3/lib/python3.6/site-packages/pandas/core/generic.py:4355: SettingWithCopyWarning: \n",
      "A value is trying to be set on a copy of a slice from a DataFrame\n",
      "\n",
      "See the caveats in the documentation: http://pandas.pydata.org/pandas-docs/stable/indexing.html#indexing-view-versus-copy\n",
      "  self._update_inplace(new_data)\n"
     ]
    }
   ],
   "source": [
    "features['Age'].fillna(features['Age'].mean(), inplace=True)"
   ]
  },
  {
   "cell_type": "code",
   "execution_count": 6,
   "metadata": {},
   "outputs": [
    {
     "name": "stderr",
     "output_type": "stream",
     "text": [
      "/home/adam/miniconda3/lib/python3.6/site-packages/pandas/core/generic.py:4355: SettingWithCopyWarning: \n",
      "A value is trying to be set on a copy of a slice from a DataFrame\n",
      "\n",
      "See the caveats in the documentation: http://pandas.pydata.org/pandas-docs/stable/indexing.html#indexing-view-versus-copy\n",
      "  self._update_inplace(new_data)\n"
     ]
    }
   ],
   "source": [
    "features['Embarked'].fillna('S', inplace=True)"
   ]
  },
  {
   "cell_type": "code",
   "execution_count": 7,
   "metadata": {},
   "outputs": [],
   "source": [
    "labels = df[['Survived']]"
   ]
  },
  {
   "cell_type": "code",
   "execution_count": 8,
   "metadata": {},
   "outputs": [],
   "source": [
    "train_features, eval_features, train_labels, eval_labels = train_test_split(\n",
    "    features, labels, test_size=0.33)"
   ]
  },
  {
   "cell_type": "code",
   "execution_count": 9,
   "metadata": {},
   "outputs": [],
   "source": [
    "batch_size = 10"
   ]
  },
  {
   "cell_type": "code",
   "execution_count": 10,
   "metadata": {},
   "outputs": [],
   "source": [
    "def train_input_fn(features, labels):\n",
    "    dataset = tf.data.Dataset.from_tensor_slices((features, labels))\n",
    "    dataset = dataset.apply(tf.contrib.data.shuffle_and_repeat(1000))\n",
    "    return dataset.batch(batch_size)"
   ]
  },
  {
   "cell_type": "code",
   "execution_count": 11,
   "metadata": {},
   "outputs": [],
   "source": [
    "def eval_input_fn(features, labels):\n",
    "    dataset = tf.data.Dataset.from_tensor_slices((features, labels))\n",
    "    return dataset.batch(batch_size)"
   ]
  },
  {
   "cell_type": "code",
   "execution_count": 12,
   "metadata": {},
   "outputs": [],
   "source": [
    "def predict_input_fn(features):\n",
    "    dataset = tf.data.Dataset.from_tensor_slices(features)\n",
    "    return dataset.batch(batch_size)"
   ]
  },
  {
   "cell_type": "code",
   "execution_count": 13,
   "metadata": {},
   "outputs": [],
   "source": [
    "def train_fn(logits, loss, labels, predicted_classes):\n",
    "    accuracy = tf.metrics.accuracy(labels, predicted_classes, name='acc_op')\n",
    "    tf.summary.scalar('accuracy', accuracy[1])\n",
    "    optimizer = tf.train.GradientDescentOptimizer(learning_rate=0.001)\n",
    "    train_op = optimizer.minimize(loss, tf.train.get_or_create_global_step())\n",
    "    return tf.estimator.EstimatorSpec(\n",
    "        tf.estimator.ModeKeys.TRAIN, loss=loss, train_op=train_op)"
   ]
  },
  {
   "cell_type": "code",
   "execution_count": 14,
   "metadata": {},
   "outputs": [],
   "source": [
    "def eval_fn(logits, loss, labels, predicted_classes):\n",
    "    accuracy = tf.metrics.accuracy(labels, predicted_classes, name='acc_op')\n",
    "    metrics = {'accuracy': accuracy}\n",
    "    tf.summary.scalar('accuracy', accuracy[1])\n",
    "    return tf.estimator.EstimatorSpec(\n",
    "        tf.estimator.ModeKeys.EVAL, loss=loss, eval_metric_ops=metrics)"
   ]
  },
  {
   "cell_type": "code",
   "execution_count": 15,
   "metadata": {},
   "outputs": [],
   "source": [
    "def predict_fn(logits, predicted_classes):\n",
    "    return tf.estimator.EstimatorSpec(\n",
    "        tf.estimator.ModeKeys.PREDICT, predictions=predicted_classes)"
   ]
  },
  {
   "cell_type": "code",
   "execution_count": 16,
   "metadata": {},
   "outputs": [],
   "source": [
    "def model_fn(features, labels, mode, params):\n",
    "    training = mode == tf.estimator.ModeKeys.PREDICT\n",
    "    dropout_rate = 0.7 if training else 0.0\n",
    "    \n",
    "    X = tf.feature_column.input_layer(features, params['feature_columns'])\n",
    "    X = tf.keras.layers.Dense(30, activation=tf.nn.relu)(X)\n",
    "    X = tf.keras.layers.BatchNormalization()(X)\n",
    "    X = tf.keras.layers.Dropout(dropout_rate)(X)\n",
    "    X = tf.keras.layers.Dense(20, activation=tf.nn.relu)(X)\n",
    "    X = tf.keras.layers.BatchNormalization()(X)\n",
    "    X = tf.keras.layers.Dropout(dropout_rate)(X)\n",
    "    X = tf.keras.layers.Dense(10, activation=tf.nn.relu)(X)\n",
    "    X = tf.keras.layers.BatchNormalization()(X)\n",
    "    logits = tf.keras.layers.Dense(units=params['n_classes'])(X)\n",
    "    predicted_classes = tf.argmax(logits, 1)\n",
    "    \n",
    "    if training:\n",
    "        return predict_fn(logits, predicted_classes)\n",
    "    \n",
    "    loss = tf.losses.sparse_softmax_cross_entropy(labels, logits)\n",
    "    \n",
    "    if mode == tf.estimator.ModeKeys.TRAIN:\n",
    "        return train_fn(logits, loss, labels, predicted_classes)\n",
    "    \n",
    "    if mode == tf.estimator.ModeKeys.EVAL:\n",
    "        return eval_fn(logits, loss, labels, predicted_classes)"
   ]
  },
  {
   "cell_type": "code",
   "execution_count": 17,
   "metadata": {},
   "outputs": [],
   "source": [
    "feature_columns = [\n",
    "    tf.feature_column.indicator_column(\n",
    "        tf.feature_column.categorical_column_with_vocabulary_list('Pclass', [1, 2, 3])\n",
    "    ),\n",
    "    tf.feature_column.indicator_column(\n",
    "        tf.feature_column.categorical_column_with_vocabulary_list('Sex', ['male', 'female'])\n",
    "    ),\n",
    "    tf.feature_column.numeric_column('Age'),\n",
    "    tf.feature_column.numeric_column('SibSp'),\n",
    "    tf.feature_column.numeric_column('Parch'),\n",
    "    tf.feature_column.numeric_column('Fare'),\n",
    "    tf.feature_column.indicator_column(\n",
    "        tf.feature_column.categorical_column_with_vocabulary_list('Embarked', ['S', 'C', 'Q'])\n",
    "    ),\n",
    "]"
   ]
  },
  {
   "cell_type": "code",
   "execution_count": 18,
   "metadata": {},
   "outputs": [
    {
     "name": "stdout",
     "output_type": "stream",
     "text": [
      "INFO:tensorflow:Using default config.\n",
      "INFO:tensorflow:Using config: {'_model_dir': 'model', '_tf_random_seed': None, '_save_summary_steps': 100, '_save_checkpoints_steps': None, '_save_checkpoints_secs': 600, '_session_config': None, '_keep_checkpoint_max': 5, '_keep_checkpoint_every_n_hours': 10000, '_log_step_count_steps': 100, '_distribute': None, '_service': None, '_cluster_spec': <tensorflow.python.training.server_lib.ClusterSpec object at 0x7f7f717e6a90>, '_task_type': 'worker', '_task_id': 0, '_global_id_in_cluster': 0, '_master': '', '_evaluation_master': '', '_is_chief': True, '_num_ps_replicas': 0, '_num_worker_replicas': 1}\n"
     ]
    }
   ],
   "source": [
    "classifier = tf.estimator.Estimator(\n",
    "    model_fn, \n",
    "    model_dir='model',\n",
    "    params={\n",
    "        'feature_columns': feature_columns, \n",
    "        'n_classes': 10\n",
    "    })"
   ]
  },
  {
   "cell_type": "code",
   "execution_count": 19,
   "metadata": {},
   "outputs": [],
   "source": [
    "train_feature_dict = {k:train_features[k].as_matrix() for k in feature_column_names}"
   ]
  },
  {
   "cell_type": "code",
   "execution_count": 20,
   "metadata": {},
   "outputs": [],
   "source": [
    "eval_feature_dict = {k:eval_features[k].as_matrix() for k in feature_column_names}"
   ]
  },
  {
   "cell_type": "code",
   "execution_count": 23,
   "metadata": {},
   "outputs": [
    {
     "name": "stdout",
     "output_type": "stream",
     "text": [
      "INFO:tensorflow:Calling model_fn.\n",
      "INFO:tensorflow:Done calling model_fn.\n",
      "INFO:tensorflow:Create CheckpointSaverHook.\n",
      "INFO:tensorflow:Graph was finalized.\n",
      "INFO:tensorflow:Restoring parameters from model/model.ckpt-20000\n",
      "INFO:tensorflow:Running local_init_op.\n",
      "INFO:tensorflow:Done running local_init_op.\n",
      "INFO:tensorflow:Saving checkpoints for 20001 into model/model.ckpt.\n",
      "INFO:tensorflow:loss = 0.3810325, step = 20000\n",
      "INFO:tensorflow:global_step/sec: 107.297\n",
      "INFO:tensorflow:loss = 0.5467502, step = 20100 (0.934 sec)\n",
      "INFO:tensorflow:global_step/sec: 186.731\n",
      "INFO:tensorflow:loss = 0.29233497, step = 20200 (0.535 sec)\n",
      "INFO:tensorflow:global_step/sec: 188.168\n",
      "INFO:tensorflow:loss = 0.47706714, step = 20300 (0.531 sec)\n",
      "INFO:tensorflow:global_step/sec: 186.42\n",
      "INFO:tensorflow:loss = 0.5287256, step = 20400 (0.536 sec)\n",
      "INFO:tensorflow:global_step/sec: 183.688\n",
      "INFO:tensorflow:loss = 0.23358288, step = 20500 (0.544 sec)\n",
      "INFO:tensorflow:global_step/sec: 183.758\n",
      "INFO:tensorflow:loss = 0.32092768, step = 20600 (0.544 sec)\n",
      "INFO:tensorflow:global_step/sec: 182.874\n",
      "INFO:tensorflow:loss = 0.59904873, step = 20700 (0.546 sec)\n",
      "INFO:tensorflow:global_step/sec: 184.2\n",
      "INFO:tensorflow:loss = 0.39342013, step = 20800 (0.543 sec)\n",
      "INFO:tensorflow:global_step/sec: 182.726\n",
      "INFO:tensorflow:loss = 0.5534852, step = 20900 (0.547 sec)\n",
      "INFO:tensorflow:Saving checkpoints for 21000 into model/model.ckpt.\n",
      "INFO:tensorflow:Loss for final step: 0.5140699.\n",
      "INFO:tensorflow:Calling model_fn.\n",
      "INFO:tensorflow:Done calling model_fn.\n",
      "INFO:tensorflow:Starting evaluation at 2018-05-15-17:54:32\n",
      "INFO:tensorflow:Graph was finalized.\n",
      "INFO:tensorflow:Restoring parameters from model/model.ckpt-21000\n",
      "INFO:tensorflow:Running local_init_op.\n",
      "INFO:tensorflow:Done running local_init_op.\n",
      "INFO:tensorflow:Finished evaluation at 2018-05-15-17:54:33\n",
      "INFO:tensorflow:Saving dict for global step 21000: accuracy = 0.7661017, global_step = 21000, loss = 0.51238847\n",
      "INFO:tensorflow:Calling model_fn.\n",
      "INFO:tensorflow:Done calling model_fn.\n",
      "INFO:tensorflow:Create CheckpointSaverHook.\n",
      "INFO:tensorflow:Graph was finalized.\n",
      "INFO:tensorflow:Restoring parameters from model/model.ckpt-21000\n",
      "INFO:tensorflow:Running local_init_op.\n",
      "INFO:tensorflow:Done running local_init_op.\n",
      "INFO:tensorflow:Saving checkpoints for 21001 into model/model.ckpt.\n",
      "INFO:tensorflow:loss = 0.2776154, step = 21000\n",
      "INFO:tensorflow:global_step/sec: 105.771\n",
      "INFO:tensorflow:loss = 0.6239454, step = 21100 (0.949 sec)\n",
      "INFO:tensorflow:global_step/sec: 185.511\n",
      "INFO:tensorflow:loss = 0.3472225, step = 21200 (0.539 sec)\n",
      "INFO:tensorflow:global_step/sec: 184.165\n",
      "INFO:tensorflow:loss = 0.6517575, step = 21300 (0.543 sec)\n",
      "INFO:tensorflow:global_step/sec: 183.778\n",
      "INFO:tensorflow:loss = 0.36184764, step = 21400 (0.543 sec)\n",
      "INFO:tensorflow:global_step/sec: 187.426\n",
      "INFO:tensorflow:loss = 0.45254308, step = 21500 (0.534 sec)\n",
      "INFO:tensorflow:global_step/sec: 185.003\n",
      "INFO:tensorflow:loss = 0.28414643, step = 21600 (0.541 sec)\n",
      "INFO:tensorflow:global_step/sec: 183.742\n",
      "INFO:tensorflow:loss = 0.37500948, step = 21700 (0.546 sec)\n",
      "INFO:tensorflow:global_step/sec: 183.461\n",
      "INFO:tensorflow:loss = 0.48674077, step = 21800 (0.544 sec)\n",
      "INFO:tensorflow:global_step/sec: 185.149\n",
      "INFO:tensorflow:loss = 0.47261724, step = 21900 (0.540 sec)\n",
      "INFO:tensorflow:Saving checkpoints for 22000 into model/model.ckpt.\n",
      "INFO:tensorflow:Loss for final step: 0.42806464.\n",
      "INFO:tensorflow:Calling model_fn.\n",
      "INFO:tensorflow:Done calling model_fn.\n",
      "INFO:tensorflow:Starting evaluation at 2018-05-15-17:54:42\n",
      "INFO:tensorflow:Graph was finalized.\n",
      "INFO:tensorflow:Restoring parameters from model/model.ckpt-22000\n",
      "INFO:tensorflow:Running local_init_op.\n",
      "INFO:tensorflow:Done running local_init_op.\n",
      "INFO:tensorflow:Finished evaluation at 2018-05-15-17:54:42\n",
      "INFO:tensorflow:Saving dict for global step 22000: accuracy = 0.8305085, global_step = 22000, loss = 0.44517648\n",
      "INFO:tensorflow:Calling model_fn.\n",
      "INFO:tensorflow:Done calling model_fn.\n",
      "INFO:tensorflow:Create CheckpointSaverHook.\n",
      "INFO:tensorflow:Graph was finalized.\n",
      "INFO:tensorflow:Restoring parameters from model/model.ckpt-22000\n",
      "INFO:tensorflow:Running local_init_op.\n",
      "INFO:tensorflow:Done running local_init_op.\n",
      "INFO:tensorflow:Saving checkpoints for 22001 into model/model.ckpt.\n",
      "INFO:tensorflow:loss = 0.4480722, step = 22000\n",
      "INFO:tensorflow:global_step/sec: 106.985\n",
      "INFO:tensorflow:loss = 0.5983522, step = 22100 (0.936 sec)\n",
      "INFO:tensorflow:global_step/sec: 183.56\n",
      "INFO:tensorflow:loss = 0.8619313, step = 22200 (0.545 sec)\n",
      "INFO:tensorflow:global_step/sec: 185.032\n",
      "INFO:tensorflow:loss = 0.68428963, step = 22300 (0.540 sec)\n",
      "INFO:tensorflow:global_step/sec: 184.836\n",
      "INFO:tensorflow:loss = 0.54597646, step = 22400 (0.541 sec)\n",
      "INFO:tensorflow:global_step/sec: 185.83\n",
      "INFO:tensorflow:loss = 0.7142035, step = 22500 (0.538 sec)\n",
      "INFO:tensorflow:global_step/sec: 188.414\n",
      "INFO:tensorflow:loss = 0.54713327, step = 22600 (0.532 sec)\n",
      "INFO:tensorflow:global_step/sec: 184.06\n",
      "INFO:tensorflow:loss = 0.4146574, step = 22700 (0.542 sec)\n",
      "INFO:tensorflow:global_step/sec: 185.866\n",
      "INFO:tensorflow:loss = 0.6570412, step = 22800 (0.539 sec)\n",
      "INFO:tensorflow:global_step/sec: 183.331\n",
      "INFO:tensorflow:loss = 0.34429306, step = 22900 (0.544 sec)\n",
      "INFO:tensorflow:Saving checkpoints for 23000 into model/model.ckpt.\n",
      "INFO:tensorflow:Loss for final step: 0.412937.\n",
      "INFO:tensorflow:Calling model_fn.\n",
      "INFO:tensorflow:Done calling model_fn.\n",
      "INFO:tensorflow:Starting evaluation at 2018-05-15-17:54:51\n",
      "INFO:tensorflow:Graph was finalized.\n",
      "INFO:tensorflow:Restoring parameters from model/model.ckpt-23000\n",
      "INFO:tensorflow:Running local_init_op.\n",
      "INFO:tensorflow:Done running local_init_op.\n",
      "INFO:tensorflow:Finished evaluation at 2018-05-15-17:54:51\n",
      "INFO:tensorflow:Saving dict for global step 23000: accuracy = 0.82711864, global_step = 23000, loss = 0.44283858\n",
      "INFO:tensorflow:Calling model_fn.\n",
      "INFO:tensorflow:Done calling model_fn.\n",
      "INFO:tensorflow:Create CheckpointSaverHook.\n",
      "INFO:tensorflow:Graph was finalized.\n",
      "INFO:tensorflow:Restoring parameters from model/model.ckpt-23000\n",
      "INFO:tensorflow:Running local_init_op.\n",
      "INFO:tensorflow:Done running local_init_op.\n",
      "INFO:tensorflow:Saving checkpoints for 23001 into model/model.ckpt.\n",
      "INFO:tensorflow:loss = 0.64161396, step = 23000\n",
      "INFO:tensorflow:global_step/sec: 106.514\n",
      "INFO:tensorflow:loss = 0.3264103, step = 23100 (0.940 sec)\n",
      "INFO:tensorflow:global_step/sec: 184.351\n",
      "INFO:tensorflow:loss = 0.7632681, step = 23200 (0.542 sec)\n",
      "INFO:tensorflow:global_step/sec: 187.803\n",
      "INFO:tensorflow:loss = 0.5093188, step = 23300 (0.532 sec)\n",
      "INFO:tensorflow:global_step/sec: 187.952\n",
      "INFO:tensorflow:loss = 0.7671417, step = 23400 (0.534 sec)\n",
      "INFO:tensorflow:global_step/sec: 181.435\n",
      "INFO:tensorflow:loss = 0.18118122, step = 23500 (0.551 sec)\n",
      "INFO:tensorflow:global_step/sec: 183.33\n",
      "INFO:tensorflow:loss = 0.32588202, step = 23600 (0.544 sec)\n",
      "INFO:tensorflow:global_step/sec: 186.923\n",
      "INFO:tensorflow:loss = 0.6761095, step = 23700 (0.535 sec)\n",
      "INFO:tensorflow:global_step/sec: 187.422\n",
      "INFO:tensorflow:loss = 0.69418013, step = 23800 (0.534 sec)\n",
      "INFO:tensorflow:global_step/sec: 186.222\n",
      "INFO:tensorflow:loss = 0.42926446, step = 23900 (0.537 sec)\n",
      "INFO:tensorflow:Saving checkpoints for 24000 into model/model.ckpt.\n",
      "INFO:tensorflow:Loss for final step: 0.27376124.\n",
      "INFO:tensorflow:Calling model_fn.\n",
      "INFO:tensorflow:Done calling model_fn.\n",
      "INFO:tensorflow:Starting evaluation at 2018-05-15-17:55:00\n",
      "INFO:tensorflow:Graph was finalized.\n",
      "INFO:tensorflow:Restoring parameters from model/model.ckpt-24000\n",
      "INFO:tensorflow:Running local_init_op.\n",
      "INFO:tensorflow:Done running local_init_op.\n",
      "INFO:tensorflow:Finished evaluation at 2018-05-15-17:55:01\n",
      "INFO:tensorflow:Saving dict for global step 24000: accuracy = 0.82033896, global_step = 24000, loss = 0.43263623\n",
      "INFO:tensorflow:Calling model_fn.\n",
      "INFO:tensorflow:Done calling model_fn.\n",
      "INFO:tensorflow:Create CheckpointSaverHook.\n",
      "INFO:tensorflow:Graph was finalized.\n",
      "INFO:tensorflow:Restoring parameters from model/model.ckpt-24000\n",
      "INFO:tensorflow:Running local_init_op.\n",
      "INFO:tensorflow:Done running local_init_op.\n",
      "INFO:tensorflow:Saving checkpoints for 24001 into model/model.ckpt.\n",
      "INFO:tensorflow:loss = 0.50344604, step = 24000\n",
      "INFO:tensorflow:global_step/sec: 107.684\n",
      "INFO:tensorflow:loss = 0.5129586, step = 24100 (0.930 sec)\n",
      "INFO:tensorflow:global_step/sec: 185.093\n",
      "INFO:tensorflow:loss = 0.21111436, step = 24200 (0.542 sec)\n",
      "INFO:tensorflow:global_step/sec: 183.397\n",
      "INFO:tensorflow:loss = 0.45020166, step = 24300 (0.544 sec)\n",
      "INFO:tensorflow:global_step/sec: 186.897\n",
      "INFO:tensorflow:loss = 0.46187663, step = 24400 (0.535 sec)\n",
      "INFO:tensorflow:global_step/sec: 183.322\n",
      "INFO:tensorflow:loss = 0.46552268, step = 24500 (0.546 sec)\n",
      "INFO:tensorflow:global_step/sec: 186.225\n",
      "INFO:tensorflow:loss = 0.87830865, step = 24600 (0.537 sec)\n",
      "INFO:tensorflow:global_step/sec: 183.379\n",
      "INFO:tensorflow:loss = 0.5855908, step = 24700 (0.545 sec)\n",
      "INFO:tensorflow:global_step/sec: 182.63\n",
      "INFO:tensorflow:loss = 0.43474618, step = 24800 (0.548 sec)\n",
      "INFO:tensorflow:global_step/sec: 185.249\n",
      "INFO:tensorflow:loss = 0.33230883, step = 24900 (0.540 sec)\n",
      "INFO:tensorflow:Saving checkpoints for 25000 into model/model.ckpt.\n",
      "INFO:tensorflow:Loss for final step: 0.5144576.\n",
      "INFO:tensorflow:Calling model_fn.\n",
      "INFO:tensorflow:Done calling model_fn.\n",
      "INFO:tensorflow:Starting evaluation at 2018-05-15-17:55:09\n",
      "INFO:tensorflow:Graph was finalized.\n",
      "INFO:tensorflow:Restoring parameters from model/model.ckpt-25000\n",
      "INFO:tensorflow:Running local_init_op.\n",
      "INFO:tensorflow:Done running local_init_op.\n",
      "INFO:tensorflow:Finished evaluation at 2018-05-15-17:55:10\n",
      "INFO:tensorflow:Saving dict for global step 25000: accuracy = 0.82033896, global_step = 25000, loss = 0.43419552\n",
      "INFO:tensorflow:Calling model_fn.\n",
      "INFO:tensorflow:Done calling model_fn.\n",
      "INFO:tensorflow:Create CheckpointSaverHook.\n",
      "INFO:tensorflow:Graph was finalized.\n",
      "INFO:tensorflow:Restoring parameters from model/model.ckpt-25000\n",
      "INFO:tensorflow:Running local_init_op.\n",
      "INFO:tensorflow:Done running local_init_op.\n",
      "INFO:tensorflow:Saving checkpoints for 25001 into model/model.ckpt.\n",
      "INFO:tensorflow:loss = 0.68752605, step = 25000\n",
      "INFO:tensorflow:global_step/sec: 107.589\n",
      "INFO:tensorflow:loss = 0.9816559, step = 25100 (0.931 sec)\n",
      "INFO:tensorflow:global_step/sec: 182.983\n",
      "INFO:tensorflow:loss = 0.39729175, step = 25200 (0.548 sec)\n",
      "INFO:tensorflow:global_step/sec: 187.315\n",
      "INFO:tensorflow:loss = 0.36883342, step = 25300 (0.534 sec)\n",
      "INFO:tensorflow:global_step/sec: 185.441\n",
      "INFO:tensorflow:loss = 0.6758546, step = 25400 (0.537 sec)\n",
      "INFO:tensorflow:global_step/sec: 186.092\n",
      "INFO:tensorflow:loss = 0.28911367, step = 25500 (0.538 sec)\n",
      "INFO:tensorflow:global_step/sec: 185.8\n",
      "INFO:tensorflow:loss = 0.48458046, step = 25600 (0.538 sec)\n",
      "INFO:tensorflow:global_step/sec: 185.506\n",
      "INFO:tensorflow:loss = 0.38822326, step = 25700 (0.541 sec)\n",
      "INFO:tensorflow:global_step/sec: 183.372\n",
      "INFO:tensorflow:loss = 0.1770467, step = 25800 (0.545 sec)\n",
      "INFO:tensorflow:global_step/sec: 185.007\n",
      "INFO:tensorflow:loss = 0.55135113, step = 25900 (0.539 sec)\n",
      "INFO:tensorflow:Saving checkpoints for 26000 into model/model.ckpt.\n",
      "INFO:tensorflow:Loss for final step: 1.0710074.\n",
      "INFO:tensorflow:Calling model_fn.\n",
      "INFO:tensorflow:Done calling model_fn.\n",
      "INFO:tensorflow:Starting evaluation at 2018-05-15-17:55:19\n",
      "INFO:tensorflow:Graph was finalized.\n",
      "INFO:tensorflow:Restoring parameters from model/model.ckpt-26000\n",
      "INFO:tensorflow:Running local_init_op.\n",
      "INFO:tensorflow:Done running local_init_op.\n",
      "INFO:tensorflow:Finished evaluation at 2018-05-15-17:55:19\n",
      "INFO:tensorflow:Saving dict for global step 26000: accuracy = 0.8, global_step = 26000, loss = 0.48674497\n",
      "INFO:tensorflow:Calling model_fn.\n",
      "INFO:tensorflow:Done calling model_fn.\n",
      "INFO:tensorflow:Create CheckpointSaverHook.\n",
      "INFO:tensorflow:Graph was finalized.\n",
      "INFO:tensorflow:Restoring parameters from model/model.ckpt-26000\n",
      "INFO:tensorflow:Running local_init_op.\n",
      "INFO:tensorflow:Done running local_init_op.\n",
      "INFO:tensorflow:Saving checkpoints for 26001 into model/model.ckpt.\n",
      "INFO:tensorflow:loss = 0.43076736, step = 26000\n",
      "INFO:tensorflow:global_step/sec: 105.582\n",
      "INFO:tensorflow:loss = 0.65828973, step = 26100 (0.948 sec)\n",
      "INFO:tensorflow:global_step/sec: 185.614\n",
      "INFO:tensorflow:loss = 0.48830634, step = 26200 (0.540 sec)\n",
      "INFO:tensorflow:global_step/sec: 184.542\n",
      "INFO:tensorflow:loss = 0.48102826, step = 26300 (0.540 sec)\n",
      "INFO:tensorflow:global_step/sec: 184.682\n",
      "INFO:tensorflow:loss = 1.0635166, step = 26400 (0.542 sec)\n",
      "INFO:tensorflow:global_step/sec: 184.073\n",
      "INFO:tensorflow:loss = 0.6180555, step = 26500 (0.545 sec)\n",
      "INFO:tensorflow:global_step/sec: 186.152\n",
      "INFO:tensorflow:loss = 0.5499598, step = 26600 (0.536 sec)\n",
      "INFO:tensorflow:global_step/sec: 186.503\n",
      "INFO:tensorflow:loss = 0.7264783, step = 26700 (0.535 sec)\n",
      "INFO:tensorflow:global_step/sec: 180.966\n",
      "INFO:tensorflow:loss = 0.63447845, step = 26800 (0.554 sec)\n",
      "INFO:tensorflow:global_step/sec: 183.524\n",
      "INFO:tensorflow:loss = 0.73376954, step = 26900 (0.543 sec)\n",
      "INFO:tensorflow:Saving checkpoints for 27000 into model/model.ckpt.\n",
      "INFO:tensorflow:Loss for final step: 0.25595415.\n",
      "INFO:tensorflow:Calling model_fn.\n",
      "INFO:tensorflow:Done calling model_fn.\n",
      "INFO:tensorflow:Starting evaluation at 2018-05-15-17:55:29\n",
      "INFO:tensorflow:Graph was finalized.\n",
      "INFO:tensorflow:Restoring parameters from model/model.ckpt-27000\n",
      "INFO:tensorflow:Running local_init_op.\n",
      "INFO:tensorflow:Done running local_init_op.\n",
      "INFO:tensorflow:Finished evaluation at 2018-05-15-17:55:29\n",
      "INFO:tensorflow:Saving dict for global step 27000: accuracy = 0.82033896, global_step = 27000, loss = 0.42909643\n",
      "INFO:tensorflow:Calling model_fn.\n",
      "INFO:tensorflow:Done calling model_fn.\n",
      "INFO:tensorflow:Create CheckpointSaverHook.\n",
      "INFO:tensorflow:Graph was finalized.\n",
      "INFO:tensorflow:Restoring parameters from model/model.ckpt-27000\n",
      "INFO:tensorflow:Running local_init_op.\n",
      "INFO:tensorflow:Done running local_init_op.\n",
      "INFO:tensorflow:Saving checkpoints for 27001 into model/model.ckpt.\n",
      "INFO:tensorflow:loss = 0.3035711, step = 27000\n",
      "INFO:tensorflow:global_step/sec: 105.418\n",
      "INFO:tensorflow:loss = 0.30570412, step = 27100 (0.950 sec)\n",
      "INFO:tensorflow:global_step/sec: 184.162\n",
      "INFO:tensorflow:loss = 0.492807, step = 27200 (0.543 sec)\n",
      "INFO:tensorflow:global_step/sec: 183.197\n",
      "INFO:tensorflow:loss = 0.5336417, step = 27300 (0.546 sec)\n",
      "INFO:tensorflow:global_step/sec: 186.084\n",
      "INFO:tensorflow:loss = 0.26398474, step = 27400 (0.537 sec)\n",
      "INFO:tensorflow:global_step/sec: 185.653\n",
      "INFO:tensorflow:loss = 0.61890095, step = 27500 (0.540 sec)\n",
      "INFO:tensorflow:global_step/sec: 182.767\n",
      "INFO:tensorflow:loss = 0.28920233, step = 27600 (0.547 sec)\n",
      "INFO:tensorflow:global_step/sec: 185.675\n",
      "INFO:tensorflow:loss = 0.7048487, step = 27700 (0.538 sec)\n",
      "INFO:tensorflow:global_step/sec: 184.669\n",
      "INFO:tensorflow:loss = 0.72555244, step = 27800 (0.540 sec)\n",
      "INFO:tensorflow:global_step/sec: 187.54\n",
      "INFO:tensorflow:loss = 0.23148994, step = 27900 (0.534 sec)\n",
      "INFO:tensorflow:Saving checkpoints for 28000 into model/model.ckpt.\n",
      "INFO:tensorflow:Loss for final step: 0.5662761.\n",
      "INFO:tensorflow:Calling model_fn.\n",
      "INFO:tensorflow:Done calling model_fn.\n",
      "INFO:tensorflow:Starting evaluation at 2018-05-15-17:55:38\n",
      "INFO:tensorflow:Graph was finalized.\n",
      "INFO:tensorflow:Restoring parameters from model/model.ckpt-28000\n",
      "INFO:tensorflow:Running local_init_op.\n",
      "INFO:tensorflow:Done running local_init_op.\n",
      "INFO:tensorflow:Finished evaluation at 2018-05-15-17:55:38\n",
      "INFO:tensorflow:Saving dict for global step 28000: accuracy = 0.8305085, global_step = 28000, loss = 0.4377242\n",
      "INFO:tensorflow:Calling model_fn.\n",
      "INFO:tensorflow:Done calling model_fn.\n",
      "INFO:tensorflow:Create CheckpointSaverHook.\n",
      "INFO:tensorflow:Graph was finalized.\n",
      "INFO:tensorflow:Restoring parameters from model/model.ckpt-28000\n",
      "INFO:tensorflow:Running local_init_op.\n",
      "INFO:tensorflow:Done running local_init_op.\n",
      "INFO:tensorflow:Saving checkpoints for 28001 into model/model.ckpt.\n",
      "INFO:tensorflow:loss = 0.7046935, step = 28000\n",
      "INFO:tensorflow:global_step/sec: 106.775\n",
      "INFO:tensorflow:loss = 0.40531993, step = 28100 (0.939 sec)\n",
      "INFO:tensorflow:global_step/sec: 184.613\n",
      "INFO:tensorflow:loss = 0.64546484, step = 28200 (0.540 sec)\n",
      "INFO:tensorflow:global_step/sec: 184.512\n",
      "INFO:tensorflow:loss = 0.41435137, step = 28300 (0.544 sec)\n",
      "INFO:tensorflow:global_step/sec: 182.027\n",
      "INFO:tensorflow:loss = 0.42976046, step = 28400 (0.549 sec)\n",
      "INFO:tensorflow:global_step/sec: 186.99\n",
      "INFO:tensorflow:loss = 0.37506896, step = 28500 (0.534 sec)\n",
      "INFO:tensorflow:global_step/sec: 182.735\n",
      "INFO:tensorflow:loss = 0.4049862, step = 28600 (0.547 sec)\n",
      "INFO:tensorflow:global_step/sec: 184.935\n",
      "INFO:tensorflow:loss = 0.3704862, step = 28700 (0.541 sec)\n",
      "INFO:tensorflow:global_step/sec: 185.374\n",
      "INFO:tensorflow:loss = 0.18212095, step = 28800 (0.539 sec)\n",
      "INFO:tensorflow:global_step/sec: 187.242\n",
      "INFO:tensorflow:loss = 0.19025269, step = 28900 (0.534 sec)\n",
      "INFO:tensorflow:Saving checkpoints for 29000 into model/model.ckpt.\n",
      "INFO:tensorflow:Loss for final step: 0.7427546.\n",
      "INFO:tensorflow:Calling model_fn.\n",
      "INFO:tensorflow:Done calling model_fn.\n",
      "INFO:tensorflow:Starting evaluation at 2018-05-15-17:55:47\n",
      "INFO:tensorflow:Graph was finalized.\n",
      "INFO:tensorflow:Restoring parameters from model/model.ckpt-29000\n",
      "INFO:tensorflow:Running local_init_op.\n",
      "INFO:tensorflow:Done running local_init_op.\n",
      "INFO:tensorflow:Finished evaluation at 2018-05-15-17:55:48\n",
      "INFO:tensorflow:Saving dict for global step 29000: accuracy = 0.8169491, global_step = 29000, loss = 0.4246949\n",
      "INFO:tensorflow:Calling model_fn.\n",
      "INFO:tensorflow:Done calling model_fn.\n",
      "INFO:tensorflow:Create CheckpointSaverHook.\n",
      "INFO:tensorflow:Graph was finalized.\n",
      "INFO:tensorflow:Restoring parameters from model/model.ckpt-29000\n",
      "INFO:tensorflow:Running local_init_op.\n",
      "INFO:tensorflow:Done running local_init_op.\n",
      "INFO:tensorflow:Saving checkpoints for 29001 into model/model.ckpt.\n",
      "INFO:tensorflow:loss = 0.47667074, step = 29000\n",
      "INFO:tensorflow:global_step/sec: 107.341\n",
      "INFO:tensorflow:loss = 0.6147732, step = 29100 (0.933 sec)\n",
      "INFO:tensorflow:global_step/sec: 184.489\n",
      "INFO:tensorflow:loss = 0.393414, step = 29200 (0.542 sec)\n",
      "INFO:tensorflow:global_step/sec: 187.201\n",
      "INFO:tensorflow:loss = 0.26672032, step = 29300 (0.534 sec)\n",
      "INFO:tensorflow:global_step/sec: 186.152\n",
      "INFO:tensorflow:loss = 0.4298668, step = 29400 (0.539 sec)\n",
      "INFO:tensorflow:global_step/sec: 182.877\n",
      "INFO:tensorflow:loss = 0.5266108, step = 29500 (0.545 sec)\n",
      "INFO:tensorflow:global_step/sec: 184.703\n",
      "INFO:tensorflow:loss = 0.45708466, step = 29600 (0.542 sec)\n",
      "INFO:tensorflow:global_step/sec: 186.468\n",
      "INFO:tensorflow:loss = 0.3482048, step = 29700 (0.536 sec)\n",
      "INFO:tensorflow:global_step/sec: 185.716\n",
      "INFO:tensorflow:loss = 0.25489002, step = 29800 (0.540 sec)\n",
      "INFO:tensorflow:global_step/sec: 185.532\n",
      "INFO:tensorflow:loss = 0.66052854, step = 29900 (0.537 sec)\n",
      "INFO:tensorflow:Saving checkpoints for 30000 into model/model.ckpt.\n",
      "INFO:tensorflow:Loss for final step: 0.38798898.\n",
      "INFO:tensorflow:Calling model_fn.\n",
      "INFO:tensorflow:Done calling model_fn.\n",
      "INFO:tensorflow:Starting evaluation at 2018-05-15-17:55:56\n",
      "INFO:tensorflow:Graph was finalized.\n",
      "INFO:tensorflow:Restoring parameters from model/model.ckpt-30000\n",
      "INFO:tensorflow:Running local_init_op.\n",
      "INFO:tensorflow:Done running local_init_op.\n",
      "INFO:tensorflow:Finished evaluation at 2018-05-15-17:55:57\n",
      "INFO:tensorflow:Saving dict for global step 30000: accuracy = 0.8338983, global_step = 30000, loss = 0.44093668\n"
     ]
    }
   ],
   "source": [
    "for _ in range(10):\n",
    "    classifier.train(\n",
    "        lambda: train_input_fn(train_feature_dict, train_labels), \n",
    "        steps=1000)\n",
    "    \n",
    "    classifier.evaluate(lambda: eval_input_fn(eval_feature_dict, eval_labels))"
   ]
  },
  {
   "cell_type": "code",
   "execution_count": 24,
   "metadata": {},
   "outputs": [],
   "source": [
    "predict_df = pd.read_csv('test.csv')"
   ]
  },
  {
   "cell_type": "code",
   "execution_count": 26,
   "metadata": {},
   "outputs": [],
   "source": [
    "predict_features = predict_df[feature_column_names]"
   ]
  },
  {
   "cell_type": "code",
   "execution_count": 35,
   "metadata": {},
   "outputs": [
    {
     "name": "stderr",
     "output_type": "stream",
     "text": [
      "/home/adam/miniconda3/lib/python3.6/site-packages/pandas/core/generic.py:4355: SettingWithCopyWarning: \n",
      "A value is trying to be set on a copy of a slice from a DataFrame\n",
      "\n",
      "See the caveats in the documentation: http://pandas.pydata.org/pandas-docs/stable/indexing.html#indexing-view-versus-copy\n",
      "  self._update_inplace(new_data)\n"
     ]
    }
   ],
   "source": [
    "predict_features['Age'].fillna(features['Age'].mean(), inplace=True)"
   ]
  },
  {
   "cell_type": "code",
   "execution_count": 37,
   "metadata": {},
   "outputs": [
    {
     "name": "stderr",
     "output_type": "stream",
     "text": [
      "/home/adam/miniconda3/lib/python3.6/site-packages/pandas/core/generic.py:4355: SettingWithCopyWarning: \n",
      "A value is trying to be set on a copy of a slice from a DataFrame\n",
      "\n",
      "See the caveats in the documentation: http://pandas.pydata.org/pandas-docs/stable/indexing.html#indexing-view-versus-copy\n",
      "  self._update_inplace(new_data)\n"
     ]
    }
   ],
   "source": [
    "predict_features['Fare'].fillna(features['Fare'].mean(), inplace=True)"
   ]
  },
  {
   "cell_type": "code",
   "execution_count": 39,
   "metadata": {},
   "outputs": [],
   "source": [
    "predict_feature_dict = {k:predict_features[k].as_matrix() for k in feature_column_names}"
   ]
  },
  {
   "cell_type": "code",
   "execution_count": 46,
   "metadata": {},
   "outputs": [
    {
     "name": "stdout",
     "output_type": "stream",
     "text": [
      "INFO:tensorflow:Calling model_fn.\n",
      "INFO:tensorflow:Done calling model_fn.\n",
      "INFO:tensorflow:Graph was finalized.\n",
      "INFO:tensorflow:Restoring parameters from model/model.ckpt-30000\n",
      "INFO:tensorflow:Running local_init_op.\n",
      "INFO:tensorflow:Done running local_init_op.\n"
     ]
    }
   ],
   "source": [
    "predictions = list(classifier.predict(lambda: predict_input_fn(predict_feature_dict)))"
   ]
  },
  {
   "cell_type": "code",
   "execution_count": 54,
   "metadata": {},
   "outputs": [],
   "source": [
    "offset = 892\n",
    "submissions = pd.DataFrame({'PassengerId': range(offset, len(predictions) + offset), 'Survived': predictions})"
   ]
  },
  {
   "cell_type": "code",
   "execution_count": 57,
   "metadata": {},
   "outputs": [],
   "source": [
    "submissions.to_csv('submissions.csv', index=False)"
   ]
  },
  {
   "cell_type": "code",
   "execution_count": null,
   "metadata": {},
   "outputs": [],
   "source": []
  }
 ],
 "metadata": {
  "kernelspec": {
   "display_name": "Python 3",
   "language": "python",
   "name": "python3"
  },
  "language_info": {
   "codemirror_mode": {
    "name": "ipython",
    "version": 3
   },
   "file_extension": ".py",
   "mimetype": "text/x-python",
   "name": "python",
   "nbconvert_exporter": "python",
   "pygments_lexer": "ipython3",
   "version": "3.6.3"
  }
 },
 "nbformat": 4,
 "nbformat_minor": 2
}
