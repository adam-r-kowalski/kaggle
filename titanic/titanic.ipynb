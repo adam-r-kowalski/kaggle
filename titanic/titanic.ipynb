{
 "cells": [
  {
   "cell_type": "code",
   "execution_count": 1,
   "metadata": {},
   "outputs": [],
   "source": [
    "import tensorflow as tf\n",
    "import pandas as pd\n",
    "from sklearn.model_selection import train_test_split\n",
    "from sklearn.preprocessing import MinMaxScaler"
   ]
  },
  {
   "cell_type": "code",
   "execution_count": 2,
   "metadata": {},
   "outputs": [],
   "source": [
    "df = pd.read_csv('train.csv')"
   ]
  },
  {
   "cell_type": "code",
   "execution_count": 3,
   "metadata": {},
   "outputs": [],
   "source": [
    "feature_column_names = ['Pclass', 'Sex', 'Age', 'SibSp', 'Parch', 'Fare', 'Embarked']"
   ]
  },
  {
   "cell_type": "code",
   "execution_count": 4,
   "metadata": {},
   "outputs": [],
   "source": [
    "features = df[feature_column_names]"
   ]
  },
  {
   "cell_type": "code",
   "execution_count": 5,
   "metadata": {},
   "outputs": [
    {
     "name": "stderr",
     "output_type": "stream",
     "text": [
      "/home/adam/miniconda3/lib/python3.6/site-packages/pandas/core/generic.py:4355: SettingWithCopyWarning: \n",
      "A value is trying to be set on a copy of a slice from a DataFrame\n",
      "\n",
      "See the caveats in the documentation: http://pandas.pydata.org/pandas-docs/stable/indexing.html#indexing-view-versus-copy\n",
      "  self._update_inplace(new_data)\n"
     ]
    }
   ],
   "source": [
    "features['Age'].fillna(features['Age'].mean(), inplace=True)"
   ]
  },
  {
   "cell_type": "code",
   "execution_count": 6,
   "metadata": {},
   "outputs": [
    {
     "name": "stderr",
     "output_type": "stream",
     "text": [
      "/home/adam/miniconda3/lib/python3.6/site-packages/pandas/core/generic.py:4355: SettingWithCopyWarning: \n",
      "A value is trying to be set on a copy of a slice from a DataFrame\n",
      "\n",
      "See the caveats in the documentation: http://pandas.pydata.org/pandas-docs/stable/indexing.html#indexing-view-versus-copy\n",
      "  self._update_inplace(new_data)\n"
     ]
    }
   ],
   "source": [
    "features['Embarked'].fillna('S', inplace=True)"
   ]
  },
  {
   "cell_type": "code",
   "execution_count": 7,
   "metadata": {},
   "outputs": [],
   "source": [
    "labels = df[['Survived']]"
   ]
  },
  {
   "cell_type": "code",
   "execution_count": 8,
   "metadata": {},
   "outputs": [],
   "source": [
    "train_features, eval_features, train_labels, eval_labels = train_test_split(\n",
    "    features, labels, test_size=0.33)"
   ]
  },
  {
   "cell_type": "code",
   "execution_count": 9,
   "metadata": {},
   "outputs": [],
   "source": [
    "need_scaling = ['Age', 'SibSp', 'Parch', 'Fare']\n",
    "scaler = MinMaxScaler()\n",
    "scaled_train_features = train_features.copy()\n",
    "scaled_train_features[need_scaling] = scaler.fit_transform(train_features[need_scaling])"
   ]
  },
  {
   "cell_type": "code",
   "execution_count": 10,
   "metadata": {},
   "outputs": [],
   "source": [
    "scaled_eval_features = eval_features.copy()\n",
    "scaled_eval_features[need_scaling] = scaler.transform(eval_features[need_scaling])"
   ]
  },
  {
   "cell_type": "code",
   "execution_count": 11,
   "metadata": {},
   "outputs": [],
   "source": [
    "batch_size = 10"
   ]
  },
  {
   "cell_type": "code",
   "execution_count": 12,
   "metadata": {},
   "outputs": [],
   "source": [
    "def train_input_fn(features, labels):\n",
    "    dataset = tf.data.Dataset.from_tensor_slices((features, labels))\n",
    "    dataset = dataset.apply(tf.contrib.data.shuffle_and_repeat(1000))\n",
    "    return dataset.batch(batch_size)"
   ]
  },
  {
   "cell_type": "code",
   "execution_count": 13,
   "metadata": {},
   "outputs": [],
   "source": [
    "def eval_input_fn(features, labels):\n",
    "    dataset = tf.data.Dataset.from_tensor_slices((features, labels))\n",
    "    return dataset.batch(batch_size)"
   ]
  },
  {
   "cell_type": "code",
   "execution_count": 14,
   "metadata": {},
   "outputs": [],
   "source": [
    "def predict_input_fn(features):\n",
    "    dataset = tf.data.Dataset.from_tensor_slices(features)\n",
    "    return dataset.batch(batch_size)"
   ]
  },
  {
   "cell_type": "code",
   "execution_count": 15,
   "metadata": {},
   "outputs": [],
   "source": [
    "def train_fn(logits, loss, labels, predicted_classes):\n",
    "    accuracy = tf.metrics.accuracy(labels, predicted_classes, name='acc_op')\n",
    "    tf.summary.scalar('accuracy', accuracy[1])\n",
    "    optimizer = tf.train.AdamOptimizer(learning_rate=0.01)\n",
    "    train_op = optimizer.minimize(loss, tf.train.get_or_create_global_step())\n",
    "    return tf.estimator.EstimatorSpec(\n",
    "        tf.estimator.ModeKeys.TRAIN, loss=loss, train_op=train_op)"
   ]
  },
  {
   "cell_type": "code",
   "execution_count": 16,
   "metadata": {},
   "outputs": [],
   "source": [
    "def eval_fn(logits, loss, labels, predicted_classes):\n",
    "    accuracy = tf.metrics.accuracy(labels, predicted_classes, name='acc_op')\n",
    "    metrics = {'accuracy': accuracy}\n",
    "    tf.summary.scalar('accuracy', accuracy[1])\n",
    "    return tf.estimator.EstimatorSpec(\n",
    "        tf.estimator.ModeKeys.EVAL, loss=loss, eval_metric_ops=metrics)"
   ]
  },
  {
   "cell_type": "code",
   "execution_count": 17,
   "metadata": {},
   "outputs": [],
   "source": [
    "def predict_fn(logits, predicted_classes):\n",
    "    return tf.estimator.EstimatorSpec(\n",
    "        tf.estimator.ModeKeys.PREDICT, predictions=predicted_classes)"
   ]
  },
  {
   "cell_type": "code",
   "execution_count": 18,
   "metadata": {},
   "outputs": [],
   "source": [
    "def model_fn(features, labels, mode, params):\n",
    "    training = mode == tf.estimator.ModeKeys.PREDICT\n",
    "    dropout_rate = 0.3 if training else 0.0\n",
    "    \n",
    "    X = tf.feature_column.input_layer(features, params['feature_columns'])\n",
    "    X = tf.keras.layers.Dense(30, activation=tf.nn.relu)(X)\n",
    "    X = tf.keras.layers.BatchNormalization()(X)\n",
    "    X = tf.keras.layers.Dense(30, activation=tf.nn.relu)(X)\n",
    "    X = tf.keras.layers.BatchNormalization()(X)\n",
    "    X = tf.keras.layers.Dropout(dropout_rate)(X)\n",
    "    logits = tf.keras.layers.Dense(units=params['n_classes'])(X)\n",
    "    predicted_classes = tf.argmax(logits, 1)\n",
    "    \n",
    "    if training:\n",
    "        return predict_fn(logits, predicted_classes)\n",
    "    \n",
    "    loss = tf.losses.sparse_softmax_cross_entropy(labels, logits)\n",
    "    \n",
    "    if mode == tf.estimator.ModeKeys.TRAIN:\n",
    "        return train_fn(logits, loss, labels, predicted_classes)\n",
    "    \n",
    "    if mode == tf.estimator.ModeKeys.EVAL:\n",
    "        return eval_fn(logits, loss, labels, predicted_classes)"
   ]
  },
  {
   "cell_type": "code",
   "execution_count": 19,
   "metadata": {},
   "outputs": [],
   "source": [
    "feature_columns = [\n",
    "    tf.feature_column.embedding_column(\n",
    "        tf.feature_column.categorical_column_with_vocabulary_list('Pclass', [1, 2, 3]),\n",
    "        dimension=2\n",
    "    ),\n",
    "    tf.feature_column.embedding_column(\n",
    "        tf.feature_column.categorical_column_with_vocabulary_list('Sex', ['male', 'female']),\n",
    "        dimension=1\n",
    "    ),\n",
    "    tf.feature_column.numeric_column('Age'),\n",
    "    tf.feature_column.numeric_column('SibSp'),\n",
    "    tf.feature_column.numeric_column('Parch'),\n",
    "    tf.feature_column.numeric_column('Fare'),\n",
    "    tf.feature_column.embedding_column(\n",
    "        tf.feature_column.categorical_column_with_vocabulary_list('Embarked', ['S', 'C', 'Q']),\n",
    "        dimension=2\n",
    "    ),\n",
    "]"
   ]
  },
  {
   "cell_type": "code",
   "execution_count": 20,
   "metadata": {},
   "outputs": [
    {
     "name": "stdout",
     "output_type": "stream",
     "text": [
      "INFO:tensorflow:Using default config.\n",
      "INFO:tensorflow:Using config: {'_model_dir': 'model', '_tf_random_seed': None, '_save_summary_steps': 100, '_save_checkpoints_steps': None, '_save_checkpoints_secs': 600, '_session_config': None, '_keep_checkpoint_max': 5, '_keep_checkpoint_every_n_hours': 10000, '_log_step_count_steps': 100, '_distribute': None, '_service': None, '_cluster_spec': <tensorflow.python.training.server_lib.ClusterSpec object at 0x7fd316564a90>, '_task_type': 'worker', '_task_id': 0, '_global_id_in_cluster': 0, '_master': '', '_evaluation_master': '', '_is_chief': True, '_num_ps_replicas': 0, '_num_worker_replicas': 1}\n"
     ]
    }
   ],
   "source": [
    "classifier = tf.estimator.Estimator(\n",
    "    model_fn, \n",
    "    model_dir='model',\n",
    "    params={\n",
    "        'feature_columns': feature_columns, \n",
    "        'n_classes': 10\n",
    "    })"
   ]
  },
  {
   "cell_type": "code",
   "execution_count": 21,
   "metadata": {},
   "outputs": [],
   "source": [
    "train_feature_dict = {k:scaled_train_features[k].as_matrix() for k in feature_column_names}"
   ]
  },
  {
   "cell_type": "code",
   "execution_count": 22,
   "metadata": {},
   "outputs": [],
   "source": [
    "eval_feature_dict = {k:scaled_eval_features[k].as_matrix() for k in feature_column_names}"
   ]
  },
  {
   "cell_type": "code",
   "execution_count": 23,
   "metadata": {},
   "outputs": [
    {
     "name": "stdout",
     "output_type": "stream",
     "text": [
      "INFO:tensorflow:Calling model_fn.\n",
      "INFO:tensorflow:Done calling model_fn.\n",
      "INFO:tensorflow:Create CheckpointSaverHook.\n",
      "INFO:tensorflow:Graph was finalized.\n",
      "INFO:tensorflow:Running local_init_op.\n",
      "INFO:tensorflow:Done running local_init_op.\n",
      "INFO:tensorflow:Saving checkpoints for 1 into model/model.ckpt.\n",
      "INFO:tensorflow:loss = 2.2931366, step = 0\n",
      "INFO:tensorflow:global_step/sec: 57.875\n",
      "INFO:tensorflow:loss = 0.9050733, step = 100 (1.731 sec)\n",
      "INFO:tensorflow:global_step/sec: 104.045\n",
      "INFO:tensorflow:loss = 0.7483741, step = 200 (0.962 sec)\n",
      "INFO:tensorflow:global_step/sec: 103.005\n",
      "INFO:tensorflow:loss = 0.35097605, step = 300 (0.971 sec)\n",
      "INFO:tensorflow:global_step/sec: 104.65\n",
      "INFO:tensorflow:loss = 0.47064543, step = 400 (0.954 sec)\n",
      "INFO:tensorflow:global_step/sec: 103.072\n",
      "INFO:tensorflow:loss = 0.22460064, step = 500 (0.970 sec)\n",
      "INFO:tensorflow:global_step/sec: 103.14\n",
      "INFO:tensorflow:loss = 0.3121893, step = 600 (0.970 sec)\n",
      "INFO:tensorflow:global_step/sec: 103.221\n",
      "INFO:tensorflow:loss = 0.14653921, step = 700 (0.971 sec)\n",
      "INFO:tensorflow:global_step/sec: 103.11\n",
      "INFO:tensorflow:loss = 0.75005007, step = 800 (0.968 sec)\n",
      "INFO:tensorflow:global_step/sec: 103.913\n",
      "INFO:tensorflow:loss = 0.69892246, step = 900 (0.962 sec)\n",
      "INFO:tensorflow:Saving checkpoints for 1000 into model/model.ckpt.\n",
      "INFO:tensorflow:Loss for final step: 0.27685156.\n",
      "INFO:tensorflow:Calling model_fn.\n",
      "INFO:tensorflow:Done calling model_fn.\n",
      "INFO:tensorflow:Starting evaluation at 2018-05-25-23:53:58\n",
      "INFO:tensorflow:Graph was finalized.\n",
      "INFO:tensorflow:Restoring parameters from model/model.ckpt-1000\n",
      "INFO:tensorflow:Running local_init_op.\n",
      "INFO:tensorflow:Done running local_init_op.\n",
      "INFO:tensorflow:Finished evaluation at 2018-05-25-23:53:59\n",
      "INFO:tensorflow:Saving dict for global step 1000: accuracy = 0.8169491, global_step = 1000, loss = 0.46186334\n",
      "INFO:tensorflow:Calling model_fn.\n",
      "INFO:tensorflow:Done calling model_fn.\n",
      "INFO:tensorflow:Create CheckpointSaverHook.\n",
      "INFO:tensorflow:Graph was finalized.\n",
      "INFO:tensorflow:Restoring parameters from model/model.ckpt-1000\n",
      "INFO:tensorflow:Running local_init_op.\n",
      "INFO:tensorflow:Done running local_init_op.\n",
      "INFO:tensorflow:Saving checkpoints for 1001 into model/model.ckpt.\n",
      "INFO:tensorflow:loss = 0.30779803, step = 1000\n",
      "INFO:tensorflow:global_step/sec: 57.6365\n",
      "INFO:tensorflow:loss = 0.6915171, step = 1100 (1.738 sec)\n",
      "INFO:tensorflow:global_step/sec: 102.991\n",
      "INFO:tensorflow:loss = 0.2539296, step = 1200 (0.969 sec)\n",
      "INFO:tensorflow:global_step/sec: 103.804\n",
      "INFO:tensorflow:loss = 0.43052047, step = 1300 (0.964 sec)\n",
      "INFO:tensorflow:global_step/sec: 102.9\n",
      "INFO:tensorflow:loss = 0.4077278, step = 1400 (0.972 sec)\n",
      "INFO:tensorflow:global_step/sec: 103.373\n",
      "INFO:tensorflow:loss = 0.53290784, step = 1500 (0.969 sec)\n",
      "INFO:tensorflow:global_step/sec: 103.448\n",
      "INFO:tensorflow:loss = 0.4070994, step = 1600 (0.965 sec)\n",
      "INFO:tensorflow:global_step/sec: 104.367\n",
      "INFO:tensorflow:loss = 0.2994006, step = 1700 (0.958 sec)\n",
      "INFO:tensorflow:global_step/sec: 103.189\n",
      "INFO:tensorflow:loss = 0.513971, step = 1800 (0.969 sec)\n",
      "INFO:tensorflow:global_step/sec: 102.713\n",
      "INFO:tensorflow:loss = 0.37249792, step = 1900 (0.974 sec)\n",
      "INFO:tensorflow:Saving checkpoints for 2000 into model/model.ckpt.\n",
      "INFO:tensorflow:Loss for final step: 0.29832906.\n",
      "INFO:tensorflow:Calling model_fn.\n",
      "INFO:tensorflow:Done calling model_fn.\n",
      "INFO:tensorflow:Starting evaluation at 2018-05-25-23:54:15\n",
      "INFO:tensorflow:Graph was finalized.\n",
      "INFO:tensorflow:Restoring parameters from model/model.ckpt-2000\n",
      "INFO:tensorflow:Running local_init_op.\n",
      "INFO:tensorflow:Done running local_init_op.\n",
      "INFO:tensorflow:Finished evaluation at 2018-05-25-23:54:16\n",
      "INFO:tensorflow:Saving dict for global step 2000: accuracy = 0.8101695, global_step = 2000, loss = 0.46745396\n",
      "INFO:tensorflow:Calling model_fn.\n",
      "INFO:tensorflow:Done calling model_fn.\n",
      "INFO:tensorflow:Create CheckpointSaverHook.\n",
      "INFO:tensorflow:Graph was finalized.\n",
      "INFO:tensorflow:Restoring parameters from model/model.ckpt-2000\n",
      "INFO:tensorflow:Running local_init_op.\n",
      "INFO:tensorflow:Done running local_init_op.\n",
      "INFO:tensorflow:Saving checkpoints for 2001 into model/model.ckpt.\n",
      "INFO:tensorflow:loss = 0.37464747, step = 2000\n",
      "INFO:tensorflow:global_step/sec: 57.404\n",
      "INFO:tensorflow:loss = 0.58291, step = 2100 (1.743 sec)\n",
      "INFO:tensorflow:global_step/sec: 104.303\n",
      "INFO:tensorflow:loss = 0.49626344, step = 2200 (0.959 sec)\n",
      "INFO:tensorflow:global_step/sec: 102.71\n",
      "INFO:tensorflow:loss = 0.5295398, step = 2300 (0.974 sec)\n",
      "INFO:tensorflow:global_step/sec: 102.963\n",
      "INFO:tensorflow:loss = 0.5099486, step = 2400 (0.971 sec)\n",
      "INFO:tensorflow:global_step/sec: 102.717\n",
      "INFO:tensorflow:loss = 0.34387833, step = 2500 (0.973 sec)\n",
      "INFO:tensorflow:global_step/sec: 103.127\n",
      "INFO:tensorflow:loss = 0.29943022, step = 2600 (0.970 sec)\n",
      "INFO:tensorflow:global_step/sec: 103.499\n",
      "INFO:tensorflow:loss = 0.35753337, step = 2700 (0.966 sec)\n",
      "INFO:tensorflow:global_step/sec: 101.757\n",
      "INFO:tensorflow:loss = 0.30344564, step = 2800 (0.983 sec)\n",
      "INFO:tensorflow:global_step/sec: 102.983\n",
      "INFO:tensorflow:loss = 0.31735894, step = 2900 (0.971 sec)\n",
      "INFO:tensorflow:Saving checkpoints for 3000 into model/model.ckpt.\n",
      "INFO:tensorflow:Loss for final step: 0.22200656.\n",
      "INFO:tensorflow:Calling model_fn.\n",
      "INFO:tensorflow:Done calling model_fn.\n",
      "INFO:tensorflow:Starting evaluation at 2018-05-25-23:54:32\n",
      "INFO:tensorflow:Graph was finalized.\n",
      "INFO:tensorflow:Restoring parameters from model/model.ckpt-3000\n",
      "INFO:tensorflow:Running local_init_op.\n",
      "INFO:tensorflow:Done running local_init_op.\n",
      "INFO:tensorflow:Finished evaluation at 2018-05-25-23:54:32\n",
      "INFO:tensorflow:Saving dict for global step 3000: accuracy = 0.80338985, global_step = 3000, loss = 0.47341985\n",
      "INFO:tensorflow:Calling model_fn.\n",
      "INFO:tensorflow:Done calling model_fn.\n",
      "INFO:tensorflow:Create CheckpointSaverHook.\n",
      "INFO:tensorflow:Graph was finalized.\n",
      "INFO:tensorflow:Restoring parameters from model/model.ckpt-3000\n",
      "INFO:tensorflow:Running local_init_op.\n",
      "INFO:tensorflow:Done running local_init_op.\n",
      "INFO:tensorflow:Saving checkpoints for 3001 into model/model.ckpt.\n",
      "INFO:tensorflow:loss = 0.61942667, step = 3000\n",
      "INFO:tensorflow:global_step/sec: 57.5247\n",
      "INFO:tensorflow:loss = 0.7401632, step = 3100 (1.740 sec)\n",
      "INFO:tensorflow:global_step/sec: 103.127\n",
      "INFO:tensorflow:loss = 0.42770258, step = 3200 (0.971 sec)\n",
      "INFO:tensorflow:global_step/sec: 103.812\n",
      "INFO:tensorflow:loss = 0.3370003, step = 3300 (0.962 sec)\n",
      "INFO:tensorflow:global_step/sec: 103.425\n",
      "INFO:tensorflow:loss = 0.48164567, step = 3400 (0.969 sec)\n",
      "INFO:tensorflow:global_step/sec: 102.787\n",
      "INFO:tensorflow:loss = 0.41141716, step = 3500 (0.971 sec)\n",
      "INFO:tensorflow:global_step/sec: 103.284\n",
      "INFO:tensorflow:loss = 0.56393343, step = 3600 (0.968 sec)\n",
      "INFO:tensorflow:global_step/sec: 103.427\n",
      "INFO:tensorflow:loss = 0.42976013, step = 3700 (0.967 sec)\n",
      "INFO:tensorflow:global_step/sec: 103.196\n",
      "INFO:tensorflow:loss = 0.43223143, step = 3800 (0.969 sec)\n",
      "INFO:tensorflow:global_step/sec: 102.6\n",
      "INFO:tensorflow:loss = 0.585914, step = 3900 (0.974 sec)\n",
      "INFO:tensorflow:Saving checkpoints for 4000 into model/model.ckpt.\n",
      "INFO:tensorflow:Loss for final step: 0.12921154.\n",
      "INFO:tensorflow:Calling model_fn.\n",
      "INFO:tensorflow:Done calling model_fn.\n",
      "INFO:tensorflow:Starting evaluation at 2018-05-25-23:54:48\n",
      "INFO:tensorflow:Graph was finalized.\n",
      "INFO:tensorflow:Restoring parameters from model/model.ckpt-4000\n",
      "INFO:tensorflow:Running local_init_op.\n",
      "INFO:tensorflow:Done running local_init_op.\n",
      "INFO:tensorflow:Finished evaluation at 2018-05-25-23:54:49\n",
      "INFO:tensorflow:Saving dict for global step 4000: accuracy = 0.80338985, global_step = 4000, loss = 0.4667039\n",
      "INFO:tensorflow:Calling model_fn.\n",
      "INFO:tensorflow:Done calling model_fn.\n",
      "INFO:tensorflow:Create CheckpointSaverHook.\n",
      "INFO:tensorflow:Graph was finalized.\n",
      "INFO:tensorflow:Restoring parameters from model/model.ckpt-4000\n",
      "INFO:tensorflow:Running local_init_op.\n",
      "INFO:tensorflow:Done running local_init_op.\n",
      "INFO:tensorflow:Saving checkpoints for 4001 into model/model.ckpt.\n",
      "INFO:tensorflow:loss = 0.505709, step = 4000\n",
      "INFO:tensorflow:global_step/sec: 57.19\n",
      "INFO:tensorflow:loss = 0.5071849, step = 4100 (1.751 sec)\n",
      "INFO:tensorflow:global_step/sec: 103.639\n",
      "INFO:tensorflow:loss = 0.13517672, step = 4200 (0.964 sec)\n",
      "INFO:tensorflow:global_step/sec: 103.569\n",
      "INFO:tensorflow:loss = 0.35060683, step = 4300 (0.966 sec)\n",
      "INFO:tensorflow:global_step/sec: 102.89\n",
      "INFO:tensorflow:loss = 0.7914281, step = 4400 (0.974 sec)\n",
      "INFO:tensorflow:global_step/sec: 102.486\n",
      "INFO:tensorflow:loss = 0.51857394, step = 4500 (0.974 sec)\n",
      "INFO:tensorflow:global_step/sec: 103.334\n",
      "INFO:tensorflow:loss = 0.9019082, step = 4600 (0.969 sec)\n",
      "INFO:tensorflow:global_step/sec: 102.531\n",
      "INFO:tensorflow:loss = 0.34011346, step = 4700 (0.973 sec)\n",
      "INFO:tensorflow:global_step/sec: 102.096\n",
      "INFO:tensorflow:loss = 0.74346447, step = 4800 (0.979 sec)\n",
      "INFO:tensorflow:global_step/sec: 102.65\n",
      "INFO:tensorflow:loss = 0.38185656, step = 4900 (0.975 sec)\n",
      "INFO:tensorflow:Saving checkpoints for 5000 into model/model.ckpt.\n",
      "INFO:tensorflow:Loss for final step: 0.23036978.\n",
      "INFO:tensorflow:Calling model_fn.\n",
      "INFO:tensorflow:Done calling model_fn.\n",
      "INFO:tensorflow:Starting evaluation at 2018-05-25-23:55:05\n",
      "INFO:tensorflow:Graph was finalized.\n",
      "INFO:tensorflow:Restoring parameters from model/model.ckpt-5000\n",
      "INFO:tensorflow:Running local_init_op.\n",
      "INFO:tensorflow:Done running local_init_op.\n",
      "INFO:tensorflow:Finished evaluation at 2018-05-25-23:55:06\n",
      "INFO:tensorflow:Saving dict for global step 5000: accuracy = 0.7966102, global_step = 5000, loss = 0.4715953\n",
      "INFO:tensorflow:Calling model_fn.\n",
      "INFO:tensorflow:Done calling model_fn.\n",
      "INFO:tensorflow:Create CheckpointSaverHook.\n",
      "INFO:tensorflow:Graph was finalized.\n",
      "INFO:tensorflow:Restoring parameters from model/model.ckpt-5000\n",
      "INFO:tensorflow:Running local_init_op.\n",
      "INFO:tensorflow:Done running local_init_op.\n",
      "INFO:tensorflow:Saving checkpoints for 5001 into model/model.ckpt.\n",
      "INFO:tensorflow:loss = 0.23459835, step = 5000\n",
      "INFO:tensorflow:global_step/sec: 57.14\n",
      "INFO:tensorflow:loss = 0.1424562, step = 5100 (1.751 sec)\n",
      "INFO:tensorflow:global_step/sec: 103.339\n",
      "INFO:tensorflow:loss = 0.396677, step = 5200 (0.970 sec)\n",
      "INFO:tensorflow:global_step/sec: 101.873\n",
      "INFO:tensorflow:loss = 0.10889882, step = 5300 (0.980 sec)\n",
      "INFO:tensorflow:global_step/sec: 103.287\n",
      "INFO:tensorflow:loss = 0.62106144, step = 5400 (0.970 sec)\n",
      "INFO:tensorflow:global_step/sec: 103.032\n",
      "INFO:tensorflow:loss = 0.36129782, step = 5500 (0.969 sec)\n",
      "INFO:tensorflow:global_step/sec: 103.083\n",
      "INFO:tensorflow:loss = 0.4606201, step = 5600 (0.971 sec)\n",
      "INFO:tensorflow:global_step/sec: 101.165\n",
      "INFO:tensorflow:loss = 0.35980296, step = 5700 (0.988 sec)\n",
      "INFO:tensorflow:global_step/sec: 101.797\n",
      "INFO:tensorflow:loss = 0.5220718, step = 5800 (0.982 sec)\n",
      "INFO:tensorflow:global_step/sec: 104.205\n",
      "INFO:tensorflow:loss = 0.48435098, step = 5900 (0.959 sec)\n",
      "INFO:tensorflow:Saving checkpoints for 6000 into model/model.ckpt.\n",
      "INFO:tensorflow:Loss for final step: 0.286313.\n",
      "INFO:tensorflow:Calling model_fn.\n",
      "INFO:tensorflow:Done calling model_fn.\n",
      "INFO:tensorflow:Starting evaluation at 2018-05-25-23:55:22\n",
      "INFO:tensorflow:Graph was finalized.\n",
      "INFO:tensorflow:Restoring parameters from model/model.ckpt-6000\n",
      "INFO:tensorflow:Running local_init_op.\n",
      "INFO:tensorflow:Done running local_init_op.\n",
      "INFO:tensorflow:Finished evaluation at 2018-05-25-23:55:22\n",
      "INFO:tensorflow:Saving dict for global step 6000: accuracy = 0.80338985, global_step = 6000, loss = 0.48148403\n",
      "INFO:tensorflow:Calling model_fn.\n",
      "INFO:tensorflow:Done calling model_fn.\n",
      "INFO:tensorflow:Create CheckpointSaverHook.\n",
      "INFO:tensorflow:Graph was finalized.\n",
      "INFO:tensorflow:Restoring parameters from model/model.ckpt-6000\n",
      "INFO:tensorflow:Running local_init_op.\n",
      "INFO:tensorflow:Done running local_init_op.\n",
      "INFO:tensorflow:Saving checkpoints for 6001 into model/model.ckpt.\n",
      "INFO:tensorflow:loss = 0.5006707, step = 6000\n",
      "INFO:tensorflow:global_step/sec: 57.2813\n",
      "INFO:tensorflow:loss = 0.5125996, step = 6100 (1.748 sec)\n",
      "INFO:tensorflow:global_step/sec: 102.99\n",
      "INFO:tensorflow:loss = 0.2135044, step = 6200 (0.970 sec)\n",
      "INFO:tensorflow:global_step/sec: 103.491\n",
      "INFO:tensorflow:loss = 0.35950089, step = 6300 (0.966 sec)\n",
      "INFO:tensorflow:global_step/sec: 102.689\n",
      "INFO:tensorflow:loss = 0.07735784, step = 6400 (0.976 sec)\n",
      "INFO:tensorflow:global_step/sec: 103.176\n",
      "INFO:tensorflow:loss = 0.39353985, step = 6500 (0.968 sec)\n",
      "INFO:tensorflow:global_step/sec: 101.421\n",
      "INFO:tensorflow:loss = 0.5652081, step = 6600 (0.986 sec)\n",
      "INFO:tensorflow:global_step/sec: 103.652\n",
      "INFO:tensorflow:loss = 0.3727898, step = 6700 (0.965 sec)\n",
      "INFO:tensorflow:global_step/sec: 104.075\n",
      "INFO:tensorflow:loss = 0.3255517, step = 6800 (0.961 sec)\n",
      "INFO:tensorflow:global_step/sec: 103.479\n",
      "INFO:tensorflow:loss = 0.48316693, step = 6900 (0.967 sec)\n",
      "INFO:tensorflow:Saving checkpoints for 7000 into model/model.ckpt.\n",
      "INFO:tensorflow:Loss for final step: 0.46736756.\n",
      "INFO:tensorflow:Calling model_fn.\n",
      "INFO:tensorflow:Done calling model_fn.\n",
      "INFO:tensorflow:Starting evaluation at 2018-05-25-23:55:38\n",
      "INFO:tensorflow:Graph was finalized.\n",
      "INFO:tensorflow:Restoring parameters from model/model.ckpt-7000\n",
      "INFO:tensorflow:Running local_init_op.\n",
      "INFO:tensorflow:Done running local_init_op.\n",
      "INFO:tensorflow:Finished evaluation at 2018-05-25-23:55:39\n",
      "INFO:tensorflow:Saving dict for global step 7000: accuracy = 0.79322034, global_step = 7000, loss = 0.47437304\n",
      "INFO:tensorflow:Calling model_fn.\n",
      "INFO:tensorflow:Done calling model_fn.\n",
      "INFO:tensorflow:Create CheckpointSaverHook.\n",
      "INFO:tensorflow:Graph was finalized.\n",
      "INFO:tensorflow:Restoring parameters from model/model.ckpt-7000\n",
      "INFO:tensorflow:Running local_init_op.\n",
      "INFO:tensorflow:Done running local_init_op.\n",
      "INFO:tensorflow:Saving checkpoints for 7001 into model/model.ckpt.\n",
      "INFO:tensorflow:loss = 0.4890634, step = 7000\n",
      "INFO:tensorflow:global_step/sec: 57.4856\n",
      "INFO:tensorflow:loss = 0.08988457, step = 7100 (1.744 sec)\n",
      "INFO:tensorflow:global_step/sec: 102.321\n",
      "INFO:tensorflow:loss = 0.4833664, step = 7200 (0.976 sec)\n",
      "INFO:tensorflow:global_step/sec: 103.47\n",
      "INFO:tensorflow:loss = 0.44751367, step = 7300 (0.965 sec)\n",
      "INFO:tensorflow:global_step/sec: 103.56\n",
      "INFO:tensorflow:loss = 0.41570553, step = 7400 (0.967 sec)\n",
      "INFO:tensorflow:global_step/sec: 103.043\n",
      "INFO:tensorflow:loss = 0.44346008, step = 7500 (0.969 sec)\n",
      "INFO:tensorflow:global_step/sec: 101.915\n",
      "INFO:tensorflow:loss = 0.15899397, step = 7600 (0.981 sec)\n",
      "INFO:tensorflow:global_step/sec: 103.834\n",
      "INFO:tensorflow:loss = 0.59453964, step = 7700 (0.965 sec)\n",
      "INFO:tensorflow:global_step/sec: 103.442\n",
      "INFO:tensorflow:loss = 0.33370873, step = 7800 (0.965 sec)\n",
      "INFO:tensorflow:global_step/sec: 103.621\n",
      "INFO:tensorflow:loss = 0.1786757, step = 7900 (0.967 sec)\n",
      "INFO:tensorflow:Saving checkpoints for 8000 into model/model.ckpt.\n",
      "INFO:tensorflow:Loss for final step: 0.38017088.\n",
      "INFO:tensorflow:Calling model_fn.\n",
      "INFO:tensorflow:Done calling model_fn.\n",
      "INFO:tensorflow:Starting evaluation at 2018-05-25-23:55:55\n",
      "INFO:tensorflow:Graph was finalized.\n",
      "INFO:tensorflow:Restoring parameters from model/model.ckpt-8000\n",
      "INFO:tensorflow:Running local_init_op.\n",
      "INFO:tensorflow:Done running local_init_op.\n",
      "INFO:tensorflow:Finished evaluation at 2018-05-25-23:55:55\n",
      "INFO:tensorflow:Saving dict for global step 8000: accuracy = 0.8067797, global_step = 8000, loss = 0.48208398\n",
      "INFO:tensorflow:Calling model_fn.\n",
      "INFO:tensorflow:Done calling model_fn.\n",
      "INFO:tensorflow:Create CheckpointSaverHook.\n",
      "INFO:tensorflow:Graph was finalized.\n",
      "INFO:tensorflow:Restoring parameters from model/model.ckpt-8000\n",
      "INFO:tensorflow:Running local_init_op.\n",
      "INFO:tensorflow:Done running local_init_op.\n",
      "INFO:tensorflow:Saving checkpoints for 8001 into model/model.ckpt.\n",
      "INFO:tensorflow:loss = 0.30290517, step = 8000\n",
      "INFO:tensorflow:global_step/sec: 57.5751\n",
      "INFO:tensorflow:loss = 0.11747184, step = 8100 (1.738 sec)\n",
      "INFO:tensorflow:global_step/sec: 104.006\n",
      "INFO:tensorflow:loss = 0.75335234, step = 8200 (0.962 sec)\n",
      "INFO:tensorflow:global_step/sec: 103.891\n",
      "INFO:tensorflow:loss = 0.59041655, step = 8300 (0.964 sec)\n",
      "INFO:tensorflow:global_step/sec: 101.988\n",
      "INFO:tensorflow:loss = 0.20336647, step = 8400 (0.979 sec)\n",
      "INFO:tensorflow:global_step/sec: 102.853\n",
      "INFO:tensorflow:loss = 0.53611934, step = 8500 (0.972 sec)\n",
      "INFO:tensorflow:global_step/sec: 103.888\n",
      "INFO:tensorflow:loss = 0.3971328, step = 8600 (0.964 sec)\n",
      "INFO:tensorflow:global_step/sec: 103.039\n",
      "INFO:tensorflow:loss = 0.3858997, step = 8700 (0.969 sec)\n",
      "INFO:tensorflow:global_step/sec: 102.466\n",
      "INFO:tensorflow:loss = 0.27595985, step = 8800 (0.976 sec)\n",
      "INFO:tensorflow:global_step/sec: 102.768\n",
      "INFO:tensorflow:loss = 0.36972862, step = 8900 (0.973 sec)\n",
      "INFO:tensorflow:Saving checkpoints for 9000 into model/model.ckpt.\n",
      "INFO:tensorflow:Loss for final step: 0.59579605.\n",
      "INFO:tensorflow:Calling model_fn.\n",
      "INFO:tensorflow:Done calling model_fn.\n",
      "INFO:tensorflow:Starting evaluation at 2018-05-25-23:56:11\n",
      "INFO:tensorflow:Graph was finalized.\n",
      "INFO:tensorflow:Restoring parameters from model/model.ckpt-9000\n",
      "INFO:tensorflow:Running local_init_op.\n",
      "INFO:tensorflow:Done running local_init_op.\n",
      "INFO:tensorflow:Finished evaluation at 2018-05-25-23:56:12\n",
      "INFO:tensorflow:Saving dict for global step 9000: accuracy = 0.79322034, global_step = 9000, loss = 0.47883788\n",
      "INFO:tensorflow:Calling model_fn.\n",
      "INFO:tensorflow:Done calling model_fn.\n",
      "INFO:tensorflow:Create CheckpointSaverHook.\n",
      "INFO:tensorflow:Graph was finalized.\n",
      "INFO:tensorflow:Restoring parameters from model/model.ckpt-9000\n",
      "INFO:tensorflow:Running local_init_op.\n",
      "INFO:tensorflow:Done running local_init_op.\n",
      "INFO:tensorflow:Saving checkpoints for 9001 into model/model.ckpt.\n",
      "INFO:tensorflow:loss = 0.51820314, step = 9000\n",
      "INFO:tensorflow:global_step/sec: 57.1319\n",
      "INFO:tensorflow:loss = 0.20572898, step = 9100 (1.754 sec)\n",
      "INFO:tensorflow:global_step/sec: 101.957\n",
      "INFO:tensorflow:loss = 0.5908047, step = 9200 (0.979 sec)\n",
      "INFO:tensorflow:global_step/sec: 103.393\n",
      "INFO:tensorflow:loss = 0.88876903, step = 9300 (0.967 sec)\n",
      "INFO:tensorflow:global_step/sec: 103.264\n",
      "INFO:tensorflow:loss = 0.42128658, step = 9400 (0.968 sec)\n",
      "INFO:tensorflow:global_step/sec: 102.835\n",
      "INFO:tensorflow:loss = 0.17884414, step = 9500 (0.974 sec)\n",
      "INFO:tensorflow:global_step/sec: 103.745\n",
      "INFO:tensorflow:loss = 0.28079402, step = 9600 (0.964 sec)\n",
      "INFO:tensorflow:global_step/sec: 103.129\n",
      "INFO:tensorflow:loss = 0.4025878, step = 9700 (0.970 sec)\n",
      "INFO:tensorflow:global_step/sec: 102.142\n",
      "INFO:tensorflow:loss = 0.3895805, step = 9800 (0.977 sec)\n",
      "INFO:tensorflow:global_step/sec: 102.65\n",
      "INFO:tensorflow:loss = 0.55149674, step = 9900 (0.974 sec)\n",
      "INFO:tensorflow:Saving checkpoints for 10000 into model/model.ckpt.\n",
      "INFO:tensorflow:Loss for final step: 0.799675.\n",
      "INFO:tensorflow:Calling model_fn.\n",
      "INFO:tensorflow:Done calling model_fn.\n",
      "INFO:tensorflow:Starting evaluation at 2018-05-25-23:56:28\n",
      "INFO:tensorflow:Graph was finalized.\n",
      "INFO:tensorflow:Restoring parameters from model/model.ckpt-10000\n",
      "INFO:tensorflow:Running local_init_op.\n",
      "INFO:tensorflow:Done running local_init_op.\n",
      "INFO:tensorflow:Finished evaluation at 2018-05-25-23:56:29\n",
      "INFO:tensorflow:Saving dict for global step 10000: accuracy = 0.7864407, global_step = 10000, loss = 0.48555306\n"
     ]
    }
   ],
   "source": [
    "for _ in range(10):\n",
    "    classifier.train(\n",
    "        lambda: train_input_fn(train_feature_dict, train_labels), \n",
    "        steps=1000)\n",
    "    \n",
    "    classifier.evaluate(lambda: eval_input_fn(eval_feature_dict, eval_labels))"
   ]
  },
  {
   "cell_type": "code",
   "execution_count": 24,
   "metadata": {},
   "outputs": [],
   "source": [
    "predict_df = pd.read_csv('test.csv')"
   ]
  },
  {
   "cell_type": "code",
   "execution_count": 25,
   "metadata": {},
   "outputs": [],
   "source": [
    "predict_features = predict_df[feature_column_names]"
   ]
  },
  {
   "cell_type": "code",
   "execution_count": 26,
   "metadata": {},
   "outputs": [
    {
     "name": "stderr",
     "output_type": "stream",
     "text": [
      "/home/adam/miniconda3/lib/python3.6/site-packages/pandas/core/generic.py:4355: SettingWithCopyWarning: \n",
      "A value is trying to be set on a copy of a slice from a DataFrame\n",
      "\n",
      "See the caveats in the documentation: http://pandas.pydata.org/pandas-docs/stable/indexing.html#indexing-view-versus-copy\n",
      "  self._update_inplace(new_data)\n"
     ]
    }
   ],
   "source": [
    "predict_features['Age'].fillna(features['Age'].mean(), inplace=True)"
   ]
  },
  {
   "cell_type": "code",
   "execution_count": 27,
   "metadata": {},
   "outputs": [
    {
     "name": "stderr",
     "output_type": "stream",
     "text": [
      "/home/adam/miniconda3/lib/python3.6/site-packages/pandas/core/generic.py:4355: SettingWithCopyWarning: \n",
      "A value is trying to be set on a copy of a slice from a DataFrame\n",
      "\n",
      "See the caveats in the documentation: http://pandas.pydata.org/pandas-docs/stable/indexing.html#indexing-view-versus-copy\n",
      "  self._update_inplace(new_data)\n"
     ]
    }
   ],
   "source": [
    "predict_features['Fare'].fillna(features['Fare'].mean(), inplace=True)"
   ]
  },
  {
   "cell_type": "code",
   "execution_count": 28,
   "metadata": {},
   "outputs": [],
   "source": [
    "scaled_predict_features = predict_features.copy()\n",
    "scaled_predict_features[need_scaling] = scaler.transform(predict_features[need_scaling])"
   ]
  },
  {
   "cell_type": "code",
   "execution_count": 29,
   "metadata": {},
   "outputs": [],
   "source": [
    "predict_feature_dict = {k:scaled_predict_features[k].as_matrix() for k in feature_column_names}"
   ]
  },
  {
   "cell_type": "code",
   "execution_count": 30,
   "metadata": {},
   "outputs": [
    {
     "name": "stdout",
     "output_type": "stream",
     "text": [
      "INFO:tensorflow:Calling model_fn.\n",
      "INFO:tensorflow:Done calling model_fn.\n",
      "INFO:tensorflow:Graph was finalized.\n",
      "INFO:tensorflow:Restoring parameters from model/model.ckpt-10000\n",
      "INFO:tensorflow:Running local_init_op.\n",
      "INFO:tensorflow:Done running local_init_op.\n"
     ]
    }
   ],
   "source": [
    "predictions = list(classifier.predict(lambda: predict_input_fn(predict_feature_dict)))"
   ]
  },
  {
   "cell_type": "code",
   "execution_count": 31,
   "metadata": {},
   "outputs": [],
   "source": [
    "offset = 892\n",
    "submissions = pd.DataFrame({'PassengerId': range(offset, len(predictions) + offset), 'Survived': predictions})"
   ]
  },
  {
   "cell_type": "code",
   "execution_count": 32,
   "metadata": {},
   "outputs": [],
   "source": [
    "submissions.to_csv('submissions.csv', index=False)"
   ]
  },
  {
   "cell_type": "code",
   "execution_count": null,
   "metadata": {},
   "outputs": [],
   "source": []
  }
 ],
 "metadata": {
  "kernelspec": {
   "display_name": "Python 3",
   "language": "python",
   "name": "python3"
  },
  "language_info": {
   "codemirror_mode": {
    "name": "ipython",
    "version": 3
   },
   "file_extension": ".py",
   "mimetype": "text/x-python",
   "name": "python",
   "nbconvert_exporter": "python",
   "pygments_lexer": "ipython3",
   "version": "3.6.3"
  }
 },
 "nbformat": 4,
 "nbformat_minor": 2
}
