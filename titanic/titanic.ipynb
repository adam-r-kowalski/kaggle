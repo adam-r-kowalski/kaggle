{
 "cells": [
  {
   "cell_type": "code",
   "execution_count": 1,
   "metadata": {},
   "outputs": [],
   "source": [
    "import tensorflow as tf\n",
    "import pandas as pd\n",
    "from sklearn.model_selection import train_test_split"
   ]
  },
  {
   "cell_type": "code",
   "execution_count": 2,
   "metadata": {},
   "outputs": [],
   "source": [
    "df = pd.read_csv('train.csv')"
   ]
  },
  {
   "cell_type": "code",
   "execution_count": 3,
   "metadata": {},
   "outputs": [],
   "source": [
    "feature_column_names = ['Pclass', 'Sex', 'Age', 'SibSp', 'Parch', 'Fare', 'Embarked']"
   ]
  },
  {
   "cell_type": "code",
   "execution_count": 4,
   "metadata": {},
   "outputs": [],
   "source": [
    "features = df[feature_column_names]"
   ]
  },
  {
   "cell_type": "code",
   "execution_count": 5,
   "metadata": {},
   "outputs": [
    {
     "name": "stderr",
     "output_type": "stream",
     "text": [
      "/home/adam/miniconda3/lib/python3.6/site-packages/pandas/core/generic.py:4355: SettingWithCopyWarning: \n",
      "A value is trying to be set on a copy of a slice from a DataFrame\n",
      "\n",
      "See the caveats in the documentation: http://pandas.pydata.org/pandas-docs/stable/indexing.html#indexing-view-versus-copy\n",
      "  self._update_inplace(new_data)\n"
     ]
    }
   ],
   "source": [
    "features['Age'].fillna(features['Age'].mean(), inplace=True)"
   ]
  },
  {
   "cell_type": "code",
   "execution_count": 6,
   "metadata": {},
   "outputs": [
    {
     "name": "stderr",
     "output_type": "stream",
     "text": [
      "/home/adam/miniconda3/lib/python3.6/site-packages/pandas/core/generic.py:4355: SettingWithCopyWarning: \n",
      "A value is trying to be set on a copy of a slice from a DataFrame\n",
      "\n",
      "See the caveats in the documentation: http://pandas.pydata.org/pandas-docs/stable/indexing.html#indexing-view-versus-copy\n",
      "  self._update_inplace(new_data)\n"
     ]
    }
   ],
   "source": [
    "features['Embarked'].fillna('S', inplace=True)"
   ]
  },
  {
   "cell_type": "code",
   "execution_count": 7,
   "metadata": {},
   "outputs": [],
   "source": [
    "labels = df[['Survived']]"
   ]
  },
  {
   "cell_type": "code",
   "execution_count": 8,
   "metadata": {},
   "outputs": [],
   "source": [
    "train_features, eval_features, train_labels, eval_labels = train_test_split(\n",
    "    features, labels, test_size=0.33)"
   ]
  },
  {
   "cell_type": "code",
   "execution_count": 9,
   "metadata": {},
   "outputs": [],
   "source": [
    "batch_size = 10"
   ]
  },
  {
   "cell_type": "code",
   "execution_count": 10,
   "metadata": {},
   "outputs": [],
   "source": [
    "def train_input_fn(features, labels):\n",
    "    dataset = tf.data.Dataset.from_tensor_slices((features, labels))\n",
    "    dataset = dataset.apply(tf.contrib.data.shuffle_and_repeat(1000))\n",
    "    return dataset.batch(batch_size)"
   ]
  },
  {
   "cell_type": "code",
   "execution_count": 11,
   "metadata": {},
   "outputs": [],
   "source": [
    "def eval_input_fn(features, labels):\n",
    "    dataset = tf.data.Dataset.from_tensor_slices((features, labels))\n",
    "    return dataset.batch(batch_size)"
   ]
  },
  {
   "cell_type": "code",
   "execution_count": 12,
   "metadata": {},
   "outputs": [],
   "source": [
    "def predict_input_fn(features):\n",
    "    dataset = tf.data.Dataset.from_tensor_slices(features)\n",
    "    return dataset.batch(batch_size)"
   ]
  },
  {
   "cell_type": "code",
   "execution_count": 13,
   "metadata": {},
   "outputs": [],
   "source": [
    "def train_fn(logits, loss, labels, predicted_classes):\n",
    "    accuracy = tf.metrics.accuracy(labels, predicted_classes, name='acc_op')\n",
    "    tf.summary.scalar('accuracy', accuracy[1])\n",
    "    optimizer = tf.train.AdamOptimizer()\n",
    "    train_op = optimizer.minimize(loss, tf.train.get_or_create_global_step())\n",
    "    return tf.estimator.EstimatorSpec(\n",
    "        tf.estimator.ModeKeys.TRAIN, loss=loss, train_op=train_op)"
   ]
  },
  {
   "cell_type": "code",
   "execution_count": 14,
   "metadata": {},
   "outputs": [],
   "source": [
    "def eval_fn(logits, loss, labels, predicted_classes):\n",
    "    accuracy = tf.metrics.accuracy(labels, predicted_classes, name='acc_op')\n",
    "    metrics = {'accuracy': accuracy}\n",
    "    tf.summary.scalar('accuracy', accuracy[1])\n",
    "    return tf.estimator.EstimatorSpec(\n",
    "        tf.estimator.ModeKeys.EVAL, loss=loss, eval_metric_ops=metrics)"
   ]
  },
  {
   "cell_type": "code",
   "execution_count": 15,
   "metadata": {},
   "outputs": [],
   "source": [
    "def predict_fn(logits, predicted_classes):\n",
    "    return tf.estimator.EstimatorSpec(\n",
    "        tf.estimator.ModeKeys.PREDICT, predictions=predicted_classes)"
   ]
  },
  {
   "cell_type": "code",
   "execution_count": 16,
   "metadata": {},
   "outputs": [],
   "source": [
    "def model_fn(features, labels, mode, params):\n",
    "    training = mode == tf.estimator.ModeKeys.PREDICT\n",
    "    dropout_rate = 0.7 if training else 0.0\n",
    "    \n",
    "    X = tf.feature_column.input_layer(features, params['feature_columns'])\n",
    "    X = tf.keras.layers.Dense(30, activation=tf.nn.relu)(X)\n",
    "    X = tf.keras.layers.BatchNormalization()(X)\n",
    "    X = tf.keras.layers.Dropout(dropout_rate)(X)\n",
    "    X = tf.keras.layers.Dense(20, activation=tf.nn.relu)(X)\n",
    "    X = tf.keras.layers.BatchNormalization()(X)\n",
    "    X = tf.keras.layers.Dropout(dropout_rate)(X)\n",
    "    X = tf.keras.layers.Dense(10, activation=tf.nn.relu)(X)\n",
    "    X = tf.keras.layers.BatchNormalization()(X)\n",
    "    logits = tf.keras.layers.Dense(units=params['n_classes'])(X)\n",
    "    predicted_classes = tf.argmax(logits, 1)\n",
    "    \n",
    "    if training:\n",
    "        return predict_fn(logits, predicted_classes)\n",
    "    \n",
    "    loss = tf.losses.sparse_softmax_cross_entropy(labels, logits)\n",
    "    \n",
    "    if mode == tf.estimator.ModeKeys.TRAIN:\n",
    "        return train_fn(logits, loss, labels, predicted_classes)\n",
    "    \n",
    "    if mode == tf.estimator.ModeKeys.EVAL:\n",
    "        return eval_fn(logits, loss, labels, predicted_classes)"
   ]
  },
  {
   "cell_type": "code",
   "execution_count": 17,
   "metadata": {},
   "outputs": [],
   "source": [
    "feature_columns = [\n",
    "    tf.feature_column.indicator_column(\n",
    "        tf.feature_column.categorical_column_with_vocabulary_list('Pclass', [1, 2, 3])\n",
    "    ),\n",
    "    tf.feature_column.indicator_column(\n",
    "        tf.feature_column.categorical_column_with_vocabulary_list('Sex', ['male', 'female'])\n",
    "    ),\n",
    "    tf.feature_column.numeric_column('Age'),\n",
    "    tf.feature_column.numeric_column('SibSp'),\n",
    "    tf.feature_column.numeric_column('Parch'),\n",
    "    tf.feature_column.numeric_column('Fare'),\n",
    "    tf.feature_column.indicator_column(\n",
    "        tf.feature_column.categorical_column_with_vocabulary_list('Embarked', ['S', 'C', 'Q'])\n",
    "    ),\n",
    "]"
   ]
  },
  {
   "cell_type": "code",
   "execution_count": 18,
   "metadata": {},
   "outputs": [
    {
     "name": "stdout",
     "output_type": "stream",
     "text": [
      "INFO:tensorflow:Using default config.\n",
      "INFO:tensorflow:Using config: {'_model_dir': 'model', '_tf_random_seed': None, '_save_summary_steps': 100, '_save_checkpoints_steps': None, '_save_checkpoints_secs': 600, '_session_config': None, '_keep_checkpoint_max': 5, '_keep_checkpoint_every_n_hours': 10000, '_log_step_count_steps': 100, '_distribute': None, '_service': None, '_cluster_spec': <tensorflow.python.training.server_lib.ClusterSpec object at 0x7f209685c3c8>, '_task_type': 'worker', '_task_id': 0, '_global_id_in_cluster': 0, '_master': '', '_evaluation_master': '', '_is_chief': True, '_num_ps_replicas': 0, '_num_worker_replicas': 1}\n"
     ]
    }
   ],
   "source": [
    "classifier = tf.estimator.Estimator(\n",
    "    model_fn, \n",
    "    model_dir='model',\n",
    "    params={\n",
    "        'feature_columns': feature_columns, \n",
    "        'n_classes': 10\n",
    "    })"
   ]
  },
  {
   "cell_type": "code",
   "execution_count": 19,
   "metadata": {},
   "outputs": [],
   "source": [
    "train_feature_dict = {k:train_features[k].as_matrix() for k in feature_column_names}"
   ]
  },
  {
   "cell_type": "code",
   "execution_count": 20,
   "metadata": {},
   "outputs": [],
   "source": [
    "eval_feature_dict = {k:eval_features[k].as_matrix() for k in feature_column_names}"
   ]
  },
  {
   "cell_type": "code",
   "execution_count": 21,
   "metadata": {},
   "outputs": [
    {
     "name": "stdout",
     "output_type": "stream",
     "text": [
      "INFO:tensorflow:Calling model_fn.\n",
      "INFO:tensorflow:Done calling model_fn.\n",
      "INFO:tensorflow:Create CheckpointSaverHook.\n",
      "INFO:tensorflow:Graph was finalized.\n",
      "INFO:tensorflow:Running local_init_op.\n",
      "INFO:tensorflow:Done running local_init_op.\n",
      "INFO:tensorflow:Saving checkpoints for 1 into model/model.ckpt.\n",
      "INFO:tensorflow:loss = 6.5885835, step = 0\n",
      "INFO:tensorflow:global_step/sec: 102.535\n",
      "INFO:tensorflow:loss = 0.85103244, step = 100 (0.978 sec)\n",
      "INFO:tensorflow:global_step/sec: 176.099\n",
      "INFO:tensorflow:loss = 0.767949, step = 200 (0.566 sec)\n",
      "INFO:tensorflow:global_step/sec: 176.211\n",
      "INFO:tensorflow:loss = 0.6878705, step = 300 (0.567 sec)\n",
      "INFO:tensorflow:global_step/sec: 177.181\n",
      "INFO:tensorflow:loss = 0.8640439, step = 400 (0.565 sec)\n",
      "INFO:tensorflow:global_step/sec: 175.728\n",
      "INFO:tensorflow:loss = 0.4544819, step = 500 (0.569 sec)\n",
      "INFO:tensorflow:global_step/sec: 175.322\n",
      "INFO:tensorflow:loss = 0.43083864, step = 600 (0.571 sec)\n",
      "INFO:tensorflow:global_step/sec: 172.446\n",
      "INFO:tensorflow:loss = 0.30815265, step = 700 (0.580 sec)\n",
      "INFO:tensorflow:global_step/sec: 173.323\n",
      "INFO:tensorflow:loss = 0.6756104, step = 800 (0.577 sec)\n",
      "INFO:tensorflow:global_step/sec: 174.1\n",
      "INFO:tensorflow:loss = 0.32420334, step = 900 (0.577 sec)\n",
      "INFO:tensorflow:Saving checkpoints for 1000 into model/model.ckpt.\n",
      "INFO:tensorflow:Loss for final step: 0.3806674.\n",
      "INFO:tensorflow:Calling model_fn.\n",
      "INFO:tensorflow:Done calling model_fn.\n",
      "INFO:tensorflow:Starting evaluation at 2018-05-15-18:10:07\n",
      "INFO:tensorflow:Graph was finalized.\n",
      "INFO:tensorflow:Restoring parameters from model/model.ckpt-1000\n",
      "INFO:tensorflow:Running local_init_op.\n",
      "INFO:tensorflow:Done running local_init_op.\n",
      "INFO:tensorflow:Finished evaluation at 2018-05-15-18:10:07\n",
      "INFO:tensorflow:Saving dict for global step 1000: accuracy = 0.8135593, global_step = 1000, loss = 0.47561857\n",
      "INFO:tensorflow:Calling model_fn.\n",
      "INFO:tensorflow:Done calling model_fn.\n",
      "INFO:tensorflow:Create CheckpointSaverHook.\n",
      "INFO:tensorflow:Graph was finalized.\n",
      "INFO:tensorflow:Restoring parameters from model/model.ckpt-1000\n",
      "INFO:tensorflow:Running local_init_op.\n",
      "INFO:tensorflow:Done running local_init_op.\n",
      "INFO:tensorflow:Saving checkpoints for 1001 into model/model.ckpt.\n",
      "INFO:tensorflow:loss = 0.33781916, step = 1000\n",
      "INFO:tensorflow:global_step/sec: 100.28\n",
      "INFO:tensorflow:loss = 0.37458095, step = 1100 (0.998 sec)\n",
      "INFO:tensorflow:global_step/sec: 170.686\n",
      "INFO:tensorflow:loss = 0.53100955, step = 1200 (0.587 sec)\n",
      "INFO:tensorflow:global_step/sec: 171.749\n",
      "INFO:tensorflow:loss = 0.3349663, step = 1300 (0.581 sec)\n",
      "INFO:tensorflow:global_step/sec: 172.808\n",
      "INFO:tensorflow:loss = 0.42360458, step = 1400 (0.578 sec)\n",
      "INFO:tensorflow:global_step/sec: 173.861\n",
      "INFO:tensorflow:loss = 1.128629, step = 1500 (0.575 sec)\n",
      "INFO:tensorflow:global_step/sec: 172.625\n",
      "INFO:tensorflow:loss = 0.5132403, step = 1600 (0.581 sec)\n",
      "INFO:tensorflow:global_step/sec: 172.972\n",
      "INFO:tensorflow:loss = 0.34727138, step = 1700 (0.578 sec)\n",
      "INFO:tensorflow:global_step/sec: 172.55\n",
      "INFO:tensorflow:loss = 0.5073366, step = 1800 (0.578 sec)\n",
      "INFO:tensorflow:global_step/sec: 173.204\n",
      "INFO:tensorflow:loss = 0.5034454, step = 1900 (0.579 sec)\n",
      "INFO:tensorflow:Saving checkpoints for 2000 into model/model.ckpt.\n",
      "INFO:tensorflow:Loss for final step: 0.41291243.\n",
      "INFO:tensorflow:Calling model_fn.\n",
      "INFO:tensorflow:Done calling model_fn.\n",
      "INFO:tensorflow:Starting evaluation at 2018-05-15-18:10:17\n",
      "INFO:tensorflow:Graph was finalized.\n",
      "INFO:tensorflow:Restoring parameters from model/model.ckpt-2000\n",
      "INFO:tensorflow:Running local_init_op.\n",
      "INFO:tensorflow:Done running local_init_op.\n",
      "INFO:tensorflow:Finished evaluation at 2018-05-15-18:10:18\n",
      "INFO:tensorflow:Saving dict for global step 2000: accuracy = 0.8169491, global_step = 2000, loss = 0.46260974\n",
      "INFO:tensorflow:Calling model_fn.\n",
      "INFO:tensorflow:Done calling model_fn.\n",
      "INFO:tensorflow:Create CheckpointSaverHook.\n",
      "INFO:tensorflow:Graph was finalized.\n",
      "INFO:tensorflow:Restoring parameters from model/model.ckpt-2000\n",
      "INFO:tensorflow:Running local_init_op.\n",
      "INFO:tensorflow:Done running local_init_op.\n",
      "INFO:tensorflow:Saving checkpoints for 2001 into model/model.ckpt.\n",
      "INFO:tensorflow:loss = 0.5694882, step = 2000\n",
      "INFO:tensorflow:global_step/sec: 100.347\n",
      "INFO:tensorflow:loss = 0.41099834, step = 2100 (0.998 sec)\n",
      "INFO:tensorflow:global_step/sec: 172.522\n",
      "INFO:tensorflow:loss = 0.21381994, step = 2200 (0.580 sec)\n",
      "INFO:tensorflow:global_step/sec: 171.776\n",
      "INFO:tensorflow:loss = 0.44341916, step = 2300 (0.582 sec)\n",
      "INFO:tensorflow:global_step/sec: 172.293\n",
      "INFO:tensorflow:loss = 0.13123211, step = 2400 (0.580 sec)\n",
      "INFO:tensorflow:global_step/sec: 172.283\n",
      "INFO:tensorflow:loss = 0.6469352, step = 2500 (0.580 sec)\n",
      "INFO:tensorflow:global_step/sec: 173.442\n",
      "INFO:tensorflow:loss = 0.18363401, step = 2600 (0.578 sec)\n",
      "INFO:tensorflow:global_step/sec: 171.729\n",
      "INFO:tensorflow:loss = 0.41445598, step = 2700 (0.581 sec)\n",
      "INFO:tensorflow:global_step/sec: 173.675\n",
      "INFO:tensorflow:loss = 0.26730052, step = 2800 (0.576 sec)\n",
      "INFO:tensorflow:global_step/sec: 173.425\n",
      "INFO:tensorflow:loss = 0.6335906, step = 2900 (0.576 sec)\n",
      "INFO:tensorflow:Saving checkpoints for 3000 into model/model.ckpt.\n",
      "INFO:tensorflow:Loss for final step: 0.24992761.\n",
      "INFO:tensorflow:Calling model_fn.\n",
      "INFO:tensorflow:Done calling model_fn.\n",
      "INFO:tensorflow:Starting evaluation at 2018-05-15-18:10:28\n",
      "INFO:tensorflow:Graph was finalized.\n",
      "INFO:tensorflow:Restoring parameters from model/model.ckpt-3000\n",
      "INFO:tensorflow:Running local_init_op.\n",
      "INFO:tensorflow:Done running local_init_op.\n",
      "INFO:tensorflow:Finished evaluation at 2018-05-15-18:10:28\n",
      "INFO:tensorflow:Saving dict for global step 3000: accuracy = 0.82711864, global_step = 3000, loss = 0.41396463\n",
      "INFO:tensorflow:Calling model_fn.\n",
      "INFO:tensorflow:Done calling model_fn.\n",
      "INFO:tensorflow:Create CheckpointSaverHook.\n",
      "INFO:tensorflow:Graph was finalized.\n",
      "INFO:tensorflow:Restoring parameters from model/model.ckpt-3000\n",
      "INFO:tensorflow:Running local_init_op.\n",
      "INFO:tensorflow:Done running local_init_op.\n",
      "INFO:tensorflow:Saving checkpoints for 3001 into model/model.ckpt.\n",
      "INFO:tensorflow:loss = 0.52958995, step = 3000\n",
      "INFO:tensorflow:global_step/sec: 99.3811\n",
      "INFO:tensorflow:loss = 0.38084838, step = 3100 (1.009 sec)\n",
      "INFO:tensorflow:global_step/sec: 170.838\n",
      "INFO:tensorflow:loss = 0.69186985, step = 3200 (0.585 sec)\n",
      "INFO:tensorflow:global_step/sec: 170.739\n",
      "INFO:tensorflow:loss = 0.2662695, step = 3300 (0.586 sec)\n",
      "INFO:tensorflow:global_step/sec: 172.188\n",
      "INFO:tensorflow:loss = 0.51316637, step = 3400 (0.579 sec)\n",
      "INFO:tensorflow:global_step/sec: 173.747\n",
      "INFO:tensorflow:loss = 0.3765575, step = 3500 (0.575 sec)\n",
      "INFO:tensorflow:global_step/sec: 174.747\n",
      "INFO:tensorflow:loss = 0.39138114, step = 3600 (0.574 sec)\n",
      "INFO:tensorflow:global_step/sec: 171.348\n",
      "INFO:tensorflow:loss = 0.5729989, step = 3700 (0.584 sec)\n",
      "INFO:tensorflow:global_step/sec: 171.861\n",
      "INFO:tensorflow:loss = 0.23201513, step = 3800 (0.582 sec)\n",
      "INFO:tensorflow:global_step/sec: 170.881\n",
      "INFO:tensorflow:loss = 0.24085677, step = 3900 (0.583 sec)\n",
      "INFO:tensorflow:Saving checkpoints for 4000 into model/model.ckpt.\n",
      "INFO:tensorflow:Loss for final step: 0.13943785.\n",
      "INFO:tensorflow:Calling model_fn.\n",
      "INFO:tensorflow:Done calling model_fn.\n",
      "INFO:tensorflow:Starting evaluation at 2018-05-15-18:10:38\n",
      "INFO:tensorflow:Graph was finalized.\n",
      "INFO:tensorflow:Restoring parameters from model/model.ckpt-4000\n",
      "INFO:tensorflow:Running local_init_op.\n",
      "INFO:tensorflow:Done running local_init_op.\n",
      "INFO:tensorflow:Finished evaluation at 2018-05-15-18:10:38\n",
      "INFO:tensorflow:Saving dict for global step 4000: accuracy = 0.82711864, global_step = 4000, loss = 0.43605295\n",
      "INFO:tensorflow:Calling model_fn.\n",
      "INFO:tensorflow:Done calling model_fn.\n",
      "INFO:tensorflow:Create CheckpointSaverHook.\n",
      "INFO:tensorflow:Graph was finalized.\n",
      "INFO:tensorflow:Restoring parameters from model/model.ckpt-4000\n",
      "INFO:tensorflow:Running local_init_op.\n",
      "INFO:tensorflow:Done running local_init_op.\n",
      "INFO:tensorflow:Saving checkpoints for 4001 into model/model.ckpt.\n",
      "INFO:tensorflow:loss = 0.7635448, step = 4000\n",
      "INFO:tensorflow:global_step/sec: 101.176\n",
      "INFO:tensorflow:loss = 0.24217148, step = 4100 (0.992 sec)\n",
      "INFO:tensorflow:global_step/sec: 171.144\n",
      "INFO:tensorflow:loss = 0.31689918, step = 4200 (0.583 sec)\n",
      "INFO:tensorflow:global_step/sec: 173.124\n",
      "INFO:tensorflow:loss = 0.4085012, step = 4300 (0.578 sec)\n",
      "INFO:tensorflow:global_step/sec: 174.26\n",
      "INFO:tensorflow:loss = 0.34010547, step = 4400 (0.574 sec)\n",
      "INFO:tensorflow:global_step/sec: 174.159\n",
      "INFO:tensorflow:loss = 0.42715183, step = 4500 (0.574 sec)\n",
      "INFO:tensorflow:global_step/sec: 172.912\n",
      "INFO:tensorflow:loss = 0.21713307, step = 4600 (0.579 sec)\n",
      "INFO:tensorflow:global_step/sec: 174.196\n",
      "INFO:tensorflow:loss = 0.45251518, step = 4700 (0.575 sec)\n",
      "INFO:tensorflow:global_step/sec: 173.474\n",
      "INFO:tensorflow:loss = 0.7466863, step = 4800 (0.575 sec)\n",
      "INFO:tensorflow:global_step/sec: 173.411\n",
      "INFO:tensorflow:loss = 0.51844853, step = 4900 (0.578 sec)\n",
      "INFO:tensorflow:Saving checkpoints for 5000 into model/model.ckpt.\n",
      "INFO:tensorflow:Loss for final step: 0.66566926.\n",
      "INFO:tensorflow:Calling model_fn.\n",
      "INFO:tensorflow:Done calling model_fn.\n",
      "INFO:tensorflow:Starting evaluation at 2018-05-15-18:10:48\n",
      "INFO:tensorflow:Graph was finalized.\n",
      "INFO:tensorflow:Restoring parameters from model/model.ckpt-5000\n",
      "INFO:tensorflow:Running local_init_op.\n",
      "INFO:tensorflow:Done running local_init_op.\n",
      "INFO:tensorflow:Finished evaluation at 2018-05-15-18:10:49\n",
      "INFO:tensorflow:Saving dict for global step 5000: accuracy = 0.8305085, global_step = 5000, loss = 0.41075802\n",
      "INFO:tensorflow:Calling model_fn.\n",
      "INFO:tensorflow:Done calling model_fn.\n",
      "INFO:tensorflow:Create CheckpointSaverHook.\n",
      "INFO:tensorflow:Graph was finalized.\n",
      "INFO:tensorflow:Restoring parameters from model/model.ckpt-5000\n",
      "INFO:tensorflow:Running local_init_op.\n",
      "INFO:tensorflow:Done running local_init_op.\n",
      "INFO:tensorflow:Saving checkpoints for 5001 into model/model.ckpt.\n",
      "INFO:tensorflow:loss = 0.40200242, step = 5000\n",
      "INFO:tensorflow:global_step/sec: 100.329\n",
      "INFO:tensorflow:loss = 0.38428676, step = 5100 (0.999 sec)\n",
      "INFO:tensorflow:global_step/sec: 172.465\n",
      "INFO:tensorflow:loss = 0.47953853, step = 5200 (0.580 sec)\n",
      "INFO:tensorflow:global_step/sec: 173.685\n",
      "INFO:tensorflow:loss = 0.11753321, step = 5300 (0.576 sec)\n",
      "INFO:tensorflow:global_step/sec: 172.829\n",
      "INFO:tensorflow:loss = 0.22952056, step = 5400 (0.579 sec)\n",
      "INFO:tensorflow:global_step/sec: 173.3\n",
      "INFO:tensorflow:loss = 0.26910347, step = 5500 (0.577 sec)\n",
      "INFO:tensorflow:global_step/sec: 173.667\n",
      "INFO:tensorflow:loss = 0.58373296, step = 5600 (0.578 sec)\n",
      "INFO:tensorflow:global_step/sec: 172.886\n",
      "INFO:tensorflow:loss = 0.46584922, step = 5700 (0.577 sec)\n",
      "INFO:tensorflow:global_step/sec: 175.337\n",
      "INFO:tensorflow:loss = 0.17708631, step = 5800 (0.572 sec)\n",
      "INFO:tensorflow:global_step/sec: 174.375\n",
      "INFO:tensorflow:loss = 0.35143062, step = 5900 (0.572 sec)\n",
      "INFO:tensorflow:Saving checkpoints for 6000 into model/model.ckpt.\n",
      "INFO:tensorflow:Loss for final step: 0.65289414.\n",
      "INFO:tensorflow:Calling model_fn.\n",
      "INFO:tensorflow:Done calling model_fn.\n",
      "INFO:tensorflow:Starting evaluation at 2018-05-15-18:10:59\n",
      "INFO:tensorflow:Graph was finalized.\n",
      "INFO:tensorflow:Restoring parameters from model/model.ckpt-6000\n",
      "INFO:tensorflow:Running local_init_op.\n",
      "INFO:tensorflow:Done running local_init_op.\n",
      "INFO:tensorflow:Finished evaluation at 2018-05-15-18:10:59\n",
      "INFO:tensorflow:Saving dict for global step 6000: accuracy = 0.8305085, global_step = 6000, loss = 0.42848265\n",
      "INFO:tensorflow:Calling model_fn.\n",
      "INFO:tensorflow:Done calling model_fn.\n",
      "INFO:tensorflow:Create CheckpointSaverHook.\n",
      "INFO:tensorflow:Graph was finalized.\n",
      "INFO:tensorflow:Restoring parameters from model/model.ckpt-6000\n",
      "INFO:tensorflow:Running local_init_op.\n",
      "INFO:tensorflow:Done running local_init_op.\n",
      "INFO:tensorflow:Saving checkpoints for 6001 into model/model.ckpt.\n",
      "INFO:tensorflow:loss = 0.23742452, step = 6000\n",
      "INFO:tensorflow:global_step/sec: 100.648\n",
      "INFO:tensorflow:loss = 0.19106972, step = 6100 (0.997 sec)\n",
      "INFO:tensorflow:global_step/sec: 171.503\n",
      "INFO:tensorflow:loss = 0.48452958, step = 6200 (0.581 sec)\n",
      "INFO:tensorflow:global_step/sec: 175.253\n",
      "INFO:tensorflow:loss = 0.17844789, step = 6300 (0.571 sec)\n",
      "INFO:tensorflow:global_step/sec: 171.18\n",
      "INFO:tensorflow:loss = 0.19073741, step = 6400 (0.585 sec)\n",
      "INFO:tensorflow:global_step/sec: 172.584\n",
      "INFO:tensorflow:loss = 0.44133997, step = 6500 (0.579 sec)\n",
      "INFO:tensorflow:global_step/sec: 171.166\n",
      "INFO:tensorflow:loss = 0.35232872, step = 6600 (0.586 sec)\n",
      "INFO:tensorflow:global_step/sec: 173.093\n",
      "INFO:tensorflow:loss = 0.20656049, step = 6700 (0.576 sec)\n",
      "INFO:tensorflow:global_step/sec: 173.347\n",
      "INFO:tensorflow:loss = 0.32435656, step = 6800 (0.577 sec)\n",
      "INFO:tensorflow:global_step/sec: 173.2\n",
      "INFO:tensorflow:loss = 0.25154477, step = 6900 (0.577 sec)\n",
      "INFO:tensorflow:Saving checkpoints for 7000 into model/model.ckpt.\n",
      "INFO:tensorflow:Loss for final step: 0.52776253.\n",
      "INFO:tensorflow:Calling model_fn.\n",
      "INFO:tensorflow:Done calling model_fn.\n",
      "INFO:tensorflow:Starting evaluation at 2018-05-15-18:11:09\n",
      "INFO:tensorflow:Graph was finalized.\n",
      "INFO:tensorflow:Restoring parameters from model/model.ckpt-7000\n",
      "INFO:tensorflow:Running local_init_op.\n",
      "INFO:tensorflow:Done running local_init_op.\n",
      "INFO:tensorflow:Finished evaluation at 2018-05-15-18:11:09\n",
      "INFO:tensorflow:Saving dict for global step 7000: accuracy = 0.8305085, global_step = 7000, loss = 0.40135506\n",
      "INFO:tensorflow:Calling model_fn.\n",
      "INFO:tensorflow:Done calling model_fn.\n",
      "INFO:tensorflow:Create CheckpointSaverHook.\n",
      "INFO:tensorflow:Graph was finalized.\n",
      "INFO:tensorflow:Restoring parameters from model/model.ckpt-7000\n",
      "INFO:tensorflow:Running local_init_op.\n",
      "INFO:tensorflow:Done running local_init_op.\n",
      "INFO:tensorflow:Saving checkpoints for 7001 into model/model.ckpt.\n",
      "INFO:tensorflow:loss = 0.265148, step = 7000\n",
      "INFO:tensorflow:global_step/sec: 99.9888\n",
      "INFO:tensorflow:loss = 0.15949966, step = 7100 (1.002 sec)\n",
      "INFO:tensorflow:global_step/sec: 174.536\n",
      "INFO:tensorflow:loss = 0.27344352, step = 7200 (0.573 sec)\n",
      "INFO:tensorflow:global_step/sec: 171.747\n",
      "INFO:tensorflow:loss = 0.2866122, step = 7300 (0.583 sec)\n",
      "INFO:tensorflow:global_step/sec: 172.978\n",
      "INFO:tensorflow:loss = 0.3825553, step = 7400 (0.579 sec)\n",
      "INFO:tensorflow:global_step/sec: 174.607\n",
      "INFO:tensorflow:loss = 0.3461451, step = 7500 (0.571 sec)\n",
      "INFO:tensorflow:global_step/sec: 172.337\n",
      "INFO:tensorflow:loss = 0.20799856, step = 7600 (0.582 sec)\n",
      "INFO:tensorflow:global_step/sec: 171.227\n",
      "INFO:tensorflow:loss = 0.13499628, step = 7700 (0.584 sec)\n",
      "INFO:tensorflow:global_step/sec: 172.662\n",
      "INFO:tensorflow:loss = 0.4210086, step = 7800 (0.578 sec)\n",
      "INFO:tensorflow:global_step/sec: 171.401\n",
      "INFO:tensorflow:loss = 0.41644424, step = 7900 (0.585 sec)\n",
      "INFO:tensorflow:Saving checkpoints for 8000 into model/model.ckpt.\n",
      "INFO:tensorflow:Loss for final step: 0.2659318.\n",
      "INFO:tensorflow:Calling model_fn.\n",
      "INFO:tensorflow:Done calling model_fn.\n",
      "INFO:tensorflow:Starting evaluation at 2018-05-15-18:11:19\n",
      "INFO:tensorflow:Graph was finalized.\n",
      "INFO:tensorflow:Restoring parameters from model/model.ckpt-8000\n",
      "INFO:tensorflow:Running local_init_op.\n",
      "INFO:tensorflow:Done running local_init_op.\n",
      "INFO:tensorflow:Finished evaluation at 2018-05-15-18:11:20\n",
      "INFO:tensorflow:Saving dict for global step 8000: accuracy = 0.8305085, global_step = 8000, loss = 0.45263663\n",
      "INFO:tensorflow:Calling model_fn.\n",
      "INFO:tensorflow:Done calling model_fn.\n",
      "INFO:tensorflow:Create CheckpointSaverHook.\n",
      "INFO:tensorflow:Graph was finalized.\n",
      "INFO:tensorflow:Restoring parameters from model/model.ckpt-8000\n",
      "INFO:tensorflow:Running local_init_op.\n",
      "INFO:tensorflow:Done running local_init_op.\n",
      "INFO:tensorflow:Saving checkpoints for 8001 into model/model.ckpt.\n",
      "INFO:tensorflow:loss = 0.28703135, step = 8000\n",
      "INFO:tensorflow:global_step/sec: 100.488\n",
      "INFO:tensorflow:loss = 0.41897655, step = 8100 (0.999 sec)\n",
      "INFO:tensorflow:global_step/sec: 172.028\n",
      "INFO:tensorflow:loss = 0.27605146, step = 8200 (0.580 sec)\n",
      "INFO:tensorflow:global_step/sec: 172.723\n",
      "INFO:tensorflow:loss = 0.19068235, step = 8300 (0.579 sec)\n",
      "INFO:tensorflow:global_step/sec: 171.856\n",
      "INFO:tensorflow:loss = 0.37259907, step = 8400 (0.583 sec)\n",
      "INFO:tensorflow:global_step/sec: 173.448\n",
      "INFO:tensorflow:loss = 0.6658338, step = 8500 (0.577 sec)\n",
      "INFO:tensorflow:global_step/sec: 172.72\n",
      "INFO:tensorflow:loss = 0.5557129, step = 8600 (0.579 sec)\n",
      "INFO:tensorflow:global_step/sec: 173.139\n",
      "INFO:tensorflow:loss = 0.4327365, step = 8700 (0.576 sec)\n",
      "INFO:tensorflow:global_step/sec: 172.046\n",
      "INFO:tensorflow:loss = 0.39067274, step = 8800 (0.581 sec)\n",
      "INFO:tensorflow:global_step/sec: 172.555\n",
      "INFO:tensorflow:loss = 0.21224973, step = 8900 (0.579 sec)\n",
      "INFO:tensorflow:Saving checkpoints for 9000 into model/model.ckpt.\n",
      "INFO:tensorflow:Loss for final step: 0.24661604.\n",
      "INFO:tensorflow:Calling model_fn.\n",
      "INFO:tensorflow:Done calling model_fn.\n",
      "INFO:tensorflow:Starting evaluation at 2018-05-15-18:11:29\n",
      "INFO:tensorflow:Graph was finalized.\n",
      "INFO:tensorflow:Restoring parameters from model/model.ckpt-9000\n",
      "INFO:tensorflow:Running local_init_op.\n",
      "INFO:tensorflow:Done running local_init_op.\n",
      "INFO:tensorflow:Finished evaluation at 2018-05-15-18:11:30\n",
      "INFO:tensorflow:Saving dict for global step 9000: accuracy = 0.8169491, global_step = 9000, loss = 0.41161123\n",
      "INFO:tensorflow:Calling model_fn.\n",
      "INFO:tensorflow:Done calling model_fn.\n",
      "INFO:tensorflow:Create CheckpointSaverHook.\n",
      "INFO:tensorflow:Graph was finalized.\n",
      "INFO:tensorflow:Restoring parameters from model/model.ckpt-9000\n",
      "INFO:tensorflow:Running local_init_op.\n",
      "INFO:tensorflow:Done running local_init_op.\n",
      "INFO:tensorflow:Saving checkpoints for 9001 into model/model.ckpt.\n",
      "INFO:tensorflow:loss = 0.57534206, step = 9000\n",
      "INFO:tensorflow:global_step/sec: 100.486\n",
      "INFO:tensorflow:loss = 0.23751643, step = 9100 (0.997 sec)\n",
      "INFO:tensorflow:global_step/sec: 171.652\n",
      "INFO:tensorflow:loss = 0.24035934, step = 9200 (0.582 sec)\n",
      "INFO:tensorflow:global_step/sec: 171.968\n",
      "INFO:tensorflow:loss = 0.14521901, step = 9300 (0.582 sec)\n",
      "INFO:tensorflow:global_step/sec: 172.691\n",
      "INFO:tensorflow:loss = 0.14660361, step = 9400 (0.580 sec)\n",
      "INFO:tensorflow:global_step/sec: 173.813\n",
      "INFO:tensorflow:loss = 0.106494054, step = 9500 (0.574 sec)\n",
      "INFO:tensorflow:global_step/sec: 173.119\n",
      "INFO:tensorflow:loss = 0.19655547, step = 9600 (0.578 sec)\n",
      "INFO:tensorflow:global_step/sec: 173.294\n",
      "INFO:tensorflow:loss = 0.6380475, step = 9700 (0.577 sec)\n",
      "INFO:tensorflow:global_step/sec: 172.702\n",
      "INFO:tensorflow:loss = 0.18719205, step = 9800 (0.579 sec)\n",
      "INFO:tensorflow:global_step/sec: 172.451\n",
      "INFO:tensorflow:loss = 0.28327516, step = 9900 (0.580 sec)\n",
      "INFO:tensorflow:Saving checkpoints for 10000 into model/model.ckpt.\n",
      "INFO:tensorflow:Loss for final step: 0.35256267.\n",
      "INFO:tensorflow:Calling model_fn.\n",
      "INFO:tensorflow:Done calling model_fn.\n",
      "INFO:tensorflow:Starting evaluation at 2018-05-15-18:11:40\n",
      "INFO:tensorflow:Graph was finalized.\n",
      "INFO:tensorflow:Restoring parameters from model/model.ckpt-10000\n",
      "INFO:tensorflow:Running local_init_op.\n",
      "INFO:tensorflow:Done running local_init_op.\n",
      "INFO:tensorflow:Finished evaluation at 2018-05-15-18:11:40\n",
      "INFO:tensorflow:Saving dict for global step 10000: accuracy = 0.8237288, global_step = 10000, loss = 0.491258\n"
     ]
    }
   ],
   "source": [
    "for _ in range(10):\n",
    "    classifier.train(\n",
    "        lambda: train_input_fn(train_feature_dict, train_labels), \n",
    "        steps=1000)\n",
    "    \n",
    "    classifier.evaluate(lambda: eval_input_fn(eval_feature_dict, eval_labels))"
   ]
  },
  {
   "cell_type": "code",
   "execution_count": 22,
   "metadata": {},
   "outputs": [],
   "source": [
    "predict_df = pd.read_csv('test.csv')"
   ]
  },
  {
   "cell_type": "code",
   "execution_count": 23,
   "metadata": {},
   "outputs": [],
   "source": [
    "predict_features = predict_df[feature_column_names]"
   ]
  },
  {
   "cell_type": "code",
   "execution_count": 24,
   "metadata": {},
   "outputs": [
    {
     "name": "stderr",
     "output_type": "stream",
     "text": [
      "/home/adam/miniconda3/lib/python3.6/site-packages/pandas/core/generic.py:4355: SettingWithCopyWarning: \n",
      "A value is trying to be set on a copy of a slice from a DataFrame\n",
      "\n",
      "See the caveats in the documentation: http://pandas.pydata.org/pandas-docs/stable/indexing.html#indexing-view-versus-copy\n",
      "  self._update_inplace(new_data)\n"
     ]
    }
   ],
   "source": [
    "predict_features['Age'].fillna(features['Age'].mean(), inplace=True)"
   ]
  },
  {
   "cell_type": "code",
   "execution_count": 25,
   "metadata": {},
   "outputs": [
    {
     "name": "stderr",
     "output_type": "stream",
     "text": [
      "/home/adam/miniconda3/lib/python3.6/site-packages/pandas/core/generic.py:4355: SettingWithCopyWarning: \n",
      "A value is trying to be set on a copy of a slice from a DataFrame\n",
      "\n",
      "See the caveats in the documentation: http://pandas.pydata.org/pandas-docs/stable/indexing.html#indexing-view-versus-copy\n",
      "  self._update_inplace(new_data)\n"
     ]
    }
   ],
   "source": [
    "predict_features['Fare'].fillna(features['Fare'].mean(), inplace=True)"
   ]
  },
  {
   "cell_type": "code",
   "execution_count": 26,
   "metadata": {},
   "outputs": [],
   "source": [
    "predict_feature_dict = {k:predict_features[k].as_matrix() for k in feature_column_names}"
   ]
  },
  {
   "cell_type": "code",
   "execution_count": null,
   "metadata": {},
   "outputs": [
    {
     "name": "stdout",
     "output_type": "stream",
     "text": [
      "INFO:tensorflow:Calling model_fn.\n"
     ]
    }
   ],
   "source": [
    "predictions = list(classifier.predict(lambda: predict_input_fn(predict_feature_dict)))"
   ]
  },
  {
   "cell_type": "code",
   "execution_count": null,
   "metadata": {},
   "outputs": [],
   "source": [
    "offset = 892\n",
    "submissions = pd.DataFrame({'PassengerId': range(offset, len(predictions) + offset), 'Survived': predictions})"
   ]
  },
  {
   "cell_type": "code",
   "execution_count": null,
   "metadata": {},
   "outputs": [],
   "source": [
    "submissions.to_csv('submissions.csv', index=False)"
   ]
  },
  {
   "cell_type": "code",
   "execution_count": null,
   "metadata": {},
   "outputs": [],
   "source": []
  }
 ],
 "metadata": {
  "kernelspec": {
   "display_name": "Python 3",
   "language": "python",
   "name": "python3"
  },
  "language_info": {
   "codemirror_mode": {
    "name": "ipython",
    "version": 3
   },
   "file_extension": ".py",
   "mimetype": "text/x-python",
   "name": "python",
   "nbconvert_exporter": "python",
   "pygments_lexer": "ipython3",
   "version": "3.6.3"
  }
 },
 "nbformat": 4,
 "nbformat_minor": 2
}
